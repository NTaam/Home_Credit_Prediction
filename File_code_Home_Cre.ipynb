{
 "cells": [
  {
   "cell_type": "markdown",
   "metadata": {
    "id": "MVV2SKcZr3ZF"
   },
   "source": [
    "# **Tải thư viện và đọc dữ liệu**"
   ]
  },
  {
   "cell_type": "code",
   "execution_count": null,
   "metadata": {
    "colab": {
     "base_uri": "https://localhost:8080/"
    },
    "executionInfo": {
     "elapsed": 36516,
     "status": "ok",
     "timestamp": 1715926280616,
     "user": {
      "displayName": "Ngọc Tâm",
      "userId": "16309649879546506017"
     },
     "user_tz": -420
    },
    "id": "MN1OCnnRqP5g",
    "outputId": "2e783cad-cfa8-4d6a-b128-50a9e18afaed"
   },
   "outputs": [
    {
     "name": "stdout",
     "output_type": "stream",
     "text": [
      "Collecting pyspark\n",
      "  Downloading pyspark-3.5.1.tar.gz (317.0 MB)\n",
      "\u001b[2K     \u001b[90m━━━━━━━━━━━━━━━━━━━━━━━━━━━━━━━━━━━━━━━━\u001b[0m \u001b[32m317.0/317.0 MB\u001b[0m \u001b[31m4.9 MB/s\u001b[0m eta \u001b[36m0:00:00\u001b[0m\n",
      "\u001b[?25h  Preparing metadata (setup.py) ... \u001b[?25l\u001b[?25hdone\n",
      "Requirement already satisfied: py4j==0.10.9.7 in /usr/local/lib/python3.10/dist-packages (from pyspark) (0.10.9.7)\n",
      "Building wheels for collected packages: pyspark\n",
      "  Building wheel for pyspark (setup.py) ... \u001b[?25l\u001b[?25hdone\n",
      "  Created wheel for pyspark: filename=pyspark-3.5.1-py2.py3-none-any.whl size=317488491 sha256=b0476ede629a91a742ea41bbe53ae26ab98629695e2df0c4ca99fbee7295257b\n",
      "  Stored in directory: /root/.cache/pip/wheels/80/1d/60/2c256ed38dddce2fdd93be545214a63e02fbd8d74fb0b7f3a6\n",
      "Successfully built pyspark\n",
      "Installing collected packages: pyspark\n",
      "Successfully installed pyspark-3.5.1\n"
     ]
    }
   ],
   "source": [
    "!pip install pyspark"
   ]
  },
  {
   "cell_type": "code",
   "execution_count": null,
   "metadata": {
    "id": "XnQ5MfQKqSrg"
   },
   "outputs": [],
   "source": [
    "# Import SparkSession from pyspark.sql\n",
    "from pyspark.sql import SparkSession\n",
    "\n",
    "from pyspark.ml.feature import VectorAssembler\n",
    "from pyspark.ml.regression import RandomForestRegressor\n",
    "from pyspark.ml import Pipeline\n",
    "\n",
    "# Import functions from pyspark.sql.functions\n",
    "from pyspark.sql.functions import *\n",
    "\n",
    "# For using window functions for aggregations or rankings\n",
    "from pyspark.sql.window import Window\n",
    "\n",
    "# For using data types when defining schemas or manipulating columns\n",
    "from pyspark.sql.types import *\n",
    "\n",
    "# Create a SparkSession, which is the entry point to programming Spark with the Dataset and DataFrame API\n",
    "spark = SparkSession.builder \\\n",
    "    .appName(\"Data Cleaning with PySpark\") \\\n",
    "    .getOrCreate()\n",
    "spark.conf.set(\"spark.sql.legacy.timeParserPolicy\", \"LEGACY\")\n",
    "\n"
   ]
  },
  {
   "cell_type": "code",
   "execution_count": null,
   "metadata": {
    "colab": {
     "base_uri": "https://localhost:8080/"
    },
    "executionInfo": {
     "elapsed": 20271,
     "status": "ok",
     "timestamp": 1715926233628,
     "user": {
      "displayName": "Ngọc Tâm",
      "userId": "16309649879546506017"
     },
     "user_tz": -420
    },
    "id": "y99M3kZ7qgcY",
    "outputId": "94b37e72-1d0c-437f-db36-6144685f4ed3"
   },
   "outputs": [
    {
     "name": "stdout",
     "output_type": "stream",
     "text": [
      "Mounted at /content/drive\n"
     ]
    }
   ],
   "source": [
    "from google.colab import drive\n",
    "drive.mount('/content/drive')"
   ]
  },
  {
   "cell_type": "code",
   "execution_count": null,
   "metadata": {
    "id": "KdnNV9PHqiBv"
   },
   "outputs": [],
   "source": [
    "data_train = \"/content/drive/MyDrive/BigData/W4/home-credit-default-risk/application_train.csv\""
   ]
  },
  {
   "cell_type": "code",
   "execution_count": null,
   "metadata": {
    "colab": {
     "base_uri": "https://localhost:8080/"
    },
    "executionInfo": {
     "elapsed": 2462,
     "status": "ok",
     "timestamp": 1715869684227,
     "user": {
      "displayName": "Ngọc Tâm",
      "userId": "16309649879546506017"
     },
     "user_tz": -420
    },
    "id": "qW5KEkd9uIth",
    "outputId": "3c868ec7-33b8-4627-c219-089d23d47728"
   },
   "outputs": [
    {
     "name": "stdout",
     "output_type": "stream",
     "text": [
      "Số dòng của train:  307511\n",
      "Số cột của train:  122\n"
     ]
    }
   ],
   "source": [
    "print(\"Số dòng của train: \", train.count())\n",
    "print(\"Số cột của train: \", len(train.columns))"
   ]
  },
  {
   "cell_type": "code",
   "execution_count": null,
   "metadata": {
    "colab": {
     "base_uri": "https://localhost:8080/"
    },
    "executionInfo": {
     "elapsed": 4447,
     "status": "ok",
     "timestamp": 1715869688671,
     "user": {
      "displayName": "Ngọc Tâm",
      "userId": "16309649879546506017"
     },
     "user_tz": -420
    },
    "id": "O2A46pHCsNJ_",
    "outputId": "c4ad6387-6777-466f-e477-0ddb8fc5bf08"
   },
   "outputs": [
    {
     "name": "stdout",
     "output_type": "stream",
     "text": [
      "+----------+------------------+-----------+------------+---------------+------------+----------------+----------+-----------+---------------+---------------+--------------------+--------------------+--------------------+-----------------+--------------------------+----------+-------------+-----------------+---------------+-----------+----------+--------------+---------------+----------------+----------+----------+--------------------+---------------+--------------------+---------------------------+--------------------------+-----------------------+--------------------------+--------------------------+---------------------------+----------------------+----------------------+-----------------------+--------------------+-------------------+-------------------+-------------------+--------------+----------------+---------------------------+---------------+--------------+-------------+-------------+-------------+-------------+------------+--------------------+--------------+-----------------------+-----------------+---------------+-----------------+----------------------------+----------------+---------------+--------------+--------------+--------------+--------------+-------------+---------------------+---------------+------------------------+------------------+---------------+-----------------+----------------------------+------------------+---------------+--------------+--------------+--------------+--------------+-------------+---------------------+---------------+------------------------+------------------+------------------+--------------+--------------+------------------+-------------------+------------------------+------------------------+------------------------+------------------------+----------------------+---------------+---------------+---------------+---------------+---------------+---------------+---------------+---------------+----------------+----------------+----------------+----------------+----------------+----------------+----------------+----------------+----------------+----------------+----------------+----------------+--------------------------+-------------------------+--------------------------+-------------------------+-------------------------+--------------------------+\n",
      "|SK_ID_CURR|NAME_CONTRACT_TYPE|CODE_GENDER|FLAG_OWN_CAR|FLAG_OWN_REALTY|CNT_CHILDREN|AMT_INCOME_TOTAL|AMT_CREDIT|AMT_ANNUITY|AMT_GOODS_PRICE|NAME_TYPE_SUITE|    NAME_INCOME_TYPE| NAME_EDUCATION_TYPE|  NAME_FAMILY_STATUS|NAME_HOUSING_TYPE|REGION_POPULATION_RELATIVE|DAYS_BIRTH|DAYS_EMPLOYED|DAYS_REGISTRATION|DAYS_ID_PUBLISH|OWN_CAR_AGE|FLAG_MOBIL|FLAG_EMP_PHONE|FLAG_WORK_PHONE|FLAG_CONT_MOBILE|FLAG_PHONE|FLAG_EMAIL|     OCCUPATION_TYPE|CNT_FAM_MEMBERS|REGION_RATING_CLIENT|REGION_RATING_CLIENT_W_CITY|WEEKDAY_APPR_PROCESS_START|HOUR_APPR_PROCESS_START|REG_REGION_NOT_LIVE_REGION|REG_REGION_NOT_WORK_REGION|LIVE_REGION_NOT_WORK_REGION|REG_CITY_NOT_LIVE_CITY|REG_CITY_NOT_WORK_CITY|LIVE_CITY_NOT_WORK_CITY|   ORGANIZATION_TYPE|       EXT_SOURCE_1|       EXT_SOURCE_2|       EXT_SOURCE_3|APARTMENTS_AVG|BASEMENTAREA_AVG|YEARS_BEGINEXPLUATATION_AVG|YEARS_BUILD_AVG|COMMONAREA_AVG|ELEVATORS_AVG|ENTRANCES_AVG|FLOORSMAX_AVG|FLOORSMIN_AVG|LANDAREA_AVG|LIVINGAPARTMENTS_AVG|LIVINGAREA_AVG|NONLIVINGAPARTMENTS_AVG|NONLIVINGAREA_AVG|APARTMENTS_MODE|BASEMENTAREA_MODE|YEARS_BEGINEXPLUATATION_MODE|YEARS_BUILD_MODE|COMMONAREA_MODE|ELEVATORS_MODE|ENTRANCES_MODE|FLOORSMAX_MODE|FLOORSMIN_MODE|LANDAREA_MODE|LIVINGAPARTMENTS_MODE|LIVINGAREA_MODE|NONLIVINGAPARTMENTS_MODE|NONLIVINGAREA_MODE|APARTMENTS_MEDI|BASEMENTAREA_MEDI|YEARS_BEGINEXPLUATATION_MEDI|  YEARS_BUILD_MEDI|COMMONAREA_MEDI|ELEVATORS_MEDI|ENTRANCES_MEDI|FLOORSMAX_MEDI|FLOORSMIN_MEDI|LANDAREA_MEDI|LIVINGAPARTMENTS_MEDI|LIVINGAREA_MEDI|NONLIVINGAPARTMENTS_MEDI|NONLIVINGAREA_MEDI|FONDKAPREMONT_MODE|HOUSETYPE_MODE|TOTALAREA_MODE|WALLSMATERIAL_MODE|EMERGENCYSTATE_MODE|OBS_30_CNT_SOCIAL_CIRCLE|DEF_30_CNT_SOCIAL_CIRCLE|OBS_60_CNT_SOCIAL_CIRCLE|DEF_60_CNT_SOCIAL_CIRCLE|DAYS_LAST_PHONE_CHANGE|FLAG_DOCUMENT_2|FLAG_DOCUMENT_3|FLAG_DOCUMENT_4|FLAG_DOCUMENT_5|FLAG_DOCUMENT_6|FLAG_DOCUMENT_7|FLAG_DOCUMENT_8|FLAG_DOCUMENT_9|FLAG_DOCUMENT_10|FLAG_DOCUMENT_11|FLAG_DOCUMENT_12|FLAG_DOCUMENT_13|FLAG_DOCUMENT_14|FLAG_DOCUMENT_15|FLAG_DOCUMENT_16|FLAG_DOCUMENT_17|FLAG_DOCUMENT_18|FLAG_DOCUMENT_19|FLAG_DOCUMENT_20|FLAG_DOCUMENT_21|AMT_REQ_CREDIT_BUREAU_HOUR|AMT_REQ_CREDIT_BUREAU_DAY|AMT_REQ_CREDIT_BUREAU_WEEK|AMT_REQ_CREDIT_BUREAU_MON|AMT_REQ_CREDIT_BUREAU_QRT|AMT_REQ_CREDIT_BUREAU_YEAR|\n",
      "+----------+------------------+-----------+------------+---------------+------------+----------------+----------+-----------+---------------+---------------+--------------------+--------------------+--------------------+-----------------+--------------------------+----------+-------------+-----------------+---------------+-----------+----------+--------------+---------------+----------------+----------+----------+--------------------+---------------+--------------------+---------------------------+--------------------------+-----------------------+--------------------------+--------------------------+---------------------------+----------------------+----------------------+-----------------------+--------------------+-------------------+-------------------+-------------------+--------------+----------------+---------------------------+---------------+--------------+-------------+-------------+-------------+-------------+------------+--------------------+--------------+-----------------------+-----------------+---------------+-----------------+----------------------------+----------------+---------------+--------------+--------------+--------------+--------------+-------------+---------------------+---------------+------------------------+------------------+---------------+-----------------+----------------------------+------------------+---------------+--------------+--------------+--------------+--------------+-------------+---------------------+---------------+------------------------+------------------+------------------+--------------+--------------+------------------+-------------------+------------------------+------------------------+------------------------+------------------------+----------------------+---------------+---------------+---------------+---------------+---------------+---------------+---------------+---------------+----------------+----------------+----------------+----------------+----------------+----------------+----------------+----------------+----------------+----------------+----------------+----------------+--------------------------+-------------------------+--------------------------+-------------------------+-------------------------+--------------------------+\n",
      "|    100001|        Cash loans|          F|           N|              Y|           0|        135000.0|  568800.0|    20560.5|       450000.0|  Unaccompanied|             Working|    Higher education|             Married|House / apartment|                   0.01885|    -19241|        -2329|          -5170.0|           -812|       NULL|         1|             1|              0|               1|         0|         1|                NULL|            2.0|                   2|                          2|                   TUESDAY|                     18|                         0|                         0|                          0|                     0|                     0|                      0|        Kindergarten| 0.7526144906031748| 0.7896543511176771| 0.1595195404777181|         0.066|           0.059|                     0.9732|           NULL|          NULL|         NULL|       0.1379|        0.125|         NULL|        NULL|                NULL|        0.0505|                   NULL|             NULL|         0.0672|           0.0612|                      0.9732|            NULL|           NULL|          NULL|        0.1379|         0.125|          NULL|         NULL|                 NULL|         0.0526|                    NULL|              NULL|         0.0666|            0.059|                      0.9732|              NULL|           NULL|          NULL|        0.1379|         0.125|          NULL|         NULL|                 NULL|         0.0514|                    NULL|              NULL|              NULL|block of flats|        0.0392|      Stone, brick|                 No|                     0.0|                     0.0|                     0.0|                     0.0|               -1740.0|              0|              1|              0|              0|              0|              0|              0|              0|               0|               0|               0|               0|               0|               0|               0|               0|               0|               0|               0|               0|                       0.0|                      0.0|                       0.0|                      0.0|                      0.0|                       0.0|\n",
      "|    100005|        Cash loans|          M|           N|              Y|           0|         99000.0|  222768.0|    17370.0|       180000.0|  Unaccompanied|             Working|Secondary / secon...|             Married|House / apartment|      0.035792000000000004|    -18064|        -4469|          -9118.0|          -1623|       NULL|         1|             1|              0|               1|         0|         0|  Low-skill Laborers|            2.0|                   2|                          2|                    FRIDAY|                      9|                         0|                         0|                          0|                     0|                     0|                      0|       Self-employed| 0.5649902017969249| 0.2916555320093651| 0.4329616670974407|          NULL|            NULL|                       NULL|           NULL|          NULL|         NULL|         NULL|         NULL|         NULL|        NULL|                NULL|          NULL|                   NULL|             NULL|           NULL|             NULL|                        NULL|            NULL|           NULL|          NULL|          NULL|          NULL|          NULL|         NULL|                 NULL|           NULL|                    NULL|              NULL|           NULL|             NULL|                        NULL|              NULL|           NULL|          NULL|          NULL|          NULL|          NULL|         NULL|                 NULL|           NULL|                    NULL|              NULL|              NULL|          NULL|          NULL|              NULL|               NULL|                     0.0|                     0.0|                     0.0|                     0.0|                   0.0|              0|              1|              0|              0|              0|              0|              0|              0|               0|               0|               0|               0|               0|               0|               0|               0|               0|               0|               0|               0|                       0.0|                      0.0|                       0.0|                      0.0|                      0.0|                       3.0|\n",
      "|    100013|        Cash loans|          M|           Y|              Y|           0|        202500.0|  663264.0|    69777.0|       630000.0|           NULL|             Working|    Higher education|             Married|House / apartment|                  0.019101|    -20038|        -4458|          -2175.0|          -3503|        5.0|         1|             1|              0|               1|         0|         0|             Drivers|            2.0|                   2|                          2|                    MONDAY|                     14|                         0|                         0|                          0|                     0|                     0|                      0|   Transport: type 3|               NULL| 0.6997868302051784| 0.6109913280868294|          NULL|            NULL|                       NULL|           NULL|          NULL|         NULL|         NULL|         NULL|         NULL|        NULL|                NULL|          NULL|                   NULL|             NULL|           NULL|             NULL|                        NULL|            NULL|           NULL|          NULL|          NULL|          NULL|          NULL|         NULL|                 NULL|           NULL|                    NULL|              NULL|           NULL|             NULL|                        NULL|              NULL|           NULL|          NULL|          NULL|          NULL|          NULL|         NULL|                 NULL|           NULL|                    NULL|              NULL|              NULL|          NULL|          NULL|              NULL|               NULL|                     0.0|                     0.0|                     0.0|                     0.0|                -856.0|              0|              0|              0|              0|              0|              0|              1|              0|               0|               0|               0|               0|               0|               0|               0|               0|               0|               0|               0|               0|                       0.0|                      0.0|                       0.0|                      0.0|                      1.0|                       4.0|\n",
      "|    100028|        Cash loans|          F|           N|              Y|           2|        315000.0| 1575000.0|    49018.5|      1575000.0|  Unaccompanied|             Working|Secondary / secon...|             Married|House / apartment|      0.026392000000000002|    -13976|        -1866|          -2000.0|          -4208|       NULL|         1|             1|              0|               1|         1|         0|         Sales staff|            4.0|                   2|                          2|                 WEDNESDAY|                     11|                         0|                         0|                          0|                     0|                     0|                      0|Business Entity T...| 0.5257339776824489| 0.5096770801723647| 0.6127042441012546|        0.3052|          0.1974|                      0.997|         0.9592|        0.1165|         0.32|       0.2759|        0.375|       0.0417|      0.2042|              0.2404|        0.3673|                 0.0386|             0.08|         0.3109|           0.2049|                       0.997|          0.9608|         0.1176|        0.3222|        0.2759|         0.375|        0.0417|       0.2089|               0.2626|         0.3827|                  0.0389|            0.0847|         0.3081|           0.1974|                       0.997|            0.9597|         0.1173|          0.32|        0.2759|         0.375|        0.0417|       0.2078|               0.2446|         0.3739|                  0.0388|            0.0817|  reg oper account|block of flats|          0.37|             Panel|                 No|                     0.0|                     0.0|                     0.0|                     0.0|               -1805.0|              0|              1|              0|              0|              0|              0|              0|              0|               0|               0|               0|               0|               0|               0|               0|               0|               0|               0|               0|               0|                       0.0|                      0.0|                       0.0|                      0.0|                      0.0|                       3.0|\n",
      "|    100038|        Cash loans|          M|           Y|              N|           1|        180000.0|  625500.0|    32067.0|       625500.0|  Unaccompanied|             Working|Secondary / secon...|             Married|House / apartment|                  0.010032|    -13040|        -2191|          -4000.0|          -4262|       16.0|         1|             1|              1|               1|         0|         0|                NULL|            3.0|                   2|                          2|                    FRIDAY|                      5|                         0|                         0|                          0|                     0|                     1|                      1|Business Entity T...|0.20214499206799905|0.42568729409122297|               NULL|          NULL|            NULL|                       NULL|           NULL|          NULL|         NULL|         NULL|         NULL|         NULL|        NULL|                NULL|          NULL|                   NULL|             NULL|           NULL|             NULL|                        NULL|            NULL|           NULL|          NULL|          NULL|          NULL|          NULL|         NULL|                 NULL|           NULL|                    NULL|              NULL|           NULL|             NULL|                        NULL|              NULL|           NULL|          NULL|          NULL|          NULL|          NULL|         NULL|                 NULL|           NULL|                    NULL|              NULL|              NULL|          NULL|          NULL|              NULL|               NULL|                     0.0|                     0.0|                     0.0|                     0.0|                -821.0|              0|              1|              0|              0|              0|              0|              0|              0|               0|               0|               0|               0|               0|               0|               0|               0|               0|               0|               0|               0|                      NULL|                     NULL|                      NULL|                     NULL|                     NULL|                      NULL|\n",
      "|    100042|        Cash loans|          F|           Y|              Y|           0|        270000.0|  959688.0|    34600.5|       810000.0|  Unaccompanied|       State servant|Secondary / secon...|             Married|House / apartment|                  0.025164|    -18604|       -12009|          -6116.0|          -2027|       10.0|         1|             1|              0|               1|         1|         0|             Drivers|            2.0|                   2|                          2|                    MONDAY|                     15|                         0|                         0|                          0|                     0|                     0|                      0|          Government|               NULL| 0.6289043246811542|0.39277386060313396|        0.2412|          0.0084|                     0.9821|         0.7552|        0.0452|         0.16|       0.1379|       0.3333|        0.375|      0.1683|              0.1942|        0.2218|                 0.0116|           0.0731|         0.2458|           0.0088|                      0.9821|          0.7648|         0.0457|        0.1611|        0.1379|        0.3333|         0.375|       0.1721|               0.2121|         0.2311|                  0.0117|            0.0774|         0.2436|           0.0084|                      0.9821|            0.7585|         0.0455|          0.16|        0.1379|        0.3333|         0.375|       0.1712|               0.1975|         0.2258|                  0.0116|            0.0746|     not specified|block of flats|        0.2151|             Block|                 No|                     0.0|                     0.0|                     0.0|                     0.0|               -1705.0|              0|              0|              0|              0|              0|              0|              1|              0|               0|               0|               0|               0|               0|               0|               0|               0|               0|               0|               0|               0|                       0.0|                      0.0|                       0.0|                      0.0|                      1.0|                       2.0|\n",
      "|    100057|        Cash loans|          M|           Y|              Y|           2|        180000.0|  499221.0|    22117.5|       373500.0|  Unaccompanied|             Working|    Higher education|             Married|House / apartment|                    0.0228|    -16685|        -2580|         -10125.0|           -241|        3.0|         1|             1|              0|               1|         0|         0|High skill tech s...|            4.0|                   2|                          2|                  THURSDAY|                      9|                         0|                         0|                          0|                     0|                     1|                      1|    Industry: type 9| 0.7608510178380521|   0.57108420610083| 0.6512602186973006|          NULL|            NULL|                       NULL|           NULL|          NULL|         NULL|         NULL|         NULL|         NULL|        NULL|                NULL|          NULL|                   NULL|             NULL|           NULL|             NULL|                        NULL|            NULL|           NULL|          NULL|          NULL|          NULL|          NULL|         NULL|                 NULL|           NULL|                    NULL|              NULL|           NULL|             NULL|                        NULL|              NULL|           NULL|          NULL|          NULL|          NULL|          NULL|         NULL|                 NULL|           NULL|                    NULL|              NULL|              NULL|          NULL|          NULL|              NULL|               NULL|                     1.0|                     0.0|                     1.0|                     0.0|               -1182.0|              0|              1|              0|              0|              0|              0|              0|              0|               0|               0|               0|               0|               0|               0|               0|               0|               0|               0|               0|               0|                       0.0|                      0.0|                       0.0|                      0.0|                      0.0|                       1.0|\n",
      "|    100065|        Cash loans|          M|           N|              Y|           0|        166500.0|  180000.0|    14220.0|       180000.0|  Unaccompanied|             Working|    Higher education|Single / not married|     With parents|                  0.005144|     -9516|        -1387|          -5063.0|          -2055|       NULL|         1|             1|              1|               1|         1|         0|          Core staff|            1.0|                   2|                          2|                    FRIDAY|                      7|                         0|                         0|                          0|                     0|                     0|                      0|       Self-employed| 0.5652899888198399| 0.6130330592407085| 0.3123653692278984|          NULL|            NULL|                       NULL|           NULL|          NULL|         NULL|         NULL|         NULL|         NULL|        NULL|                NULL|          NULL|                   NULL|             NULL|           NULL|             NULL|                        NULL|            NULL|           NULL|          NULL|          NULL|          NULL|          NULL|         NULL|                 NULL|           NULL|                    NULL|              NULL|           NULL|             NULL|                        NULL|              NULL|           NULL|          NULL|          NULL|          NULL|          NULL|         NULL|                 NULL|           NULL|                    NULL|              NULL|              NULL|          NULL|          NULL|              NULL|               NULL|                     0.0|                     0.0|                     0.0|                     0.0|               -1182.0|              0|              0|              0|              0|              0|              0|              1|              0|               0|               0|               0|               0|               0|               0|               0|               0|               0|               0|               0|               0|                       0.0|                      0.0|                       0.0|                      0.0|                      0.0|                       2.0|\n",
      "|    100066|        Cash loans|          F|           N|              Y|           0|        315000.0|  364896.0|    28957.5|       315000.0|  Unaccompanied|       State servant|    Higher education|             Married|House / apartment|                   0.04622|    -12744|        -1013|          -1686.0|          -3171|       NULL|         1|             1|              0|               1|         0|         0|          Core staff|            2.0|                   1|                          1|                  THURSDAY|                     18|                         0|                         0|                          0|                     0|                     0|                      0|              School| 0.7185074765991686| 0.8087877917779122| 0.5226973172821112|        0.1031|          0.1115|                     0.9781|           NULL|          NULL|          0.0|       0.2069|       0.1667|         NULL|        NULL|                NULL|          NULL|                   NULL|             NULL|          0.105|           0.1157|                      0.9782|            NULL|           NULL|           0.0|        0.2069|        0.1667|          NULL|         NULL|                 NULL|           NULL|                    NULL|              NULL|         0.1041|           0.1115|                      0.9781|              NULL|           NULL|           0.0|        0.2069|        0.1667|          NULL|         NULL|                 NULL|           NULL|                    NULL|              NULL|              NULL|block of flats|        0.0702|      Stone, brick|                 No|                     0.0|                     0.0|                     0.0|                     0.0|                -829.0|              0|              1|              0|              0|              0|              0|              0|              0|               0|               0|               0|               0|               0|               0|               0|               0|               0|               0|               0|               0|                       0.0|                      0.0|                       0.0|                      0.0|                      0.0|                       5.0|\n",
      "|    100067|        Cash loans|          F|           Y|              Y|           1|        162000.0|   45000.0|     5337.0|        45000.0|         Family|             Working|    Higher education|      Civil marriage|House / apartment|                  0.018634|    -10395|        -2625|          -8124.0|          -3041|        5.0|         1|             1|              1|               1|         1|         0|         Sales staff|            3.0|                   2|                          2|                   TUESDAY|                     14|                         0|                         0|                          0|                     0|                     0|                      0|       Trade: type 2|0.21056220763370315| 0.4448475614048825| 0.1940678276718812|          NULL|            NULL|                       NULL|           NULL|          NULL|         NULL|         NULL|         NULL|         NULL|        NULL|                NULL|          NULL|                   NULL|             NULL|           NULL|             NULL|                        NULL|            NULL|           NULL|          NULL|          NULL|          NULL|          NULL|         NULL|                 NULL|           NULL|                    NULL|              NULL|           NULL|             NULL|                        NULL|              NULL|           NULL|          NULL|          NULL|          NULL|          NULL|         NULL|                 NULL|           NULL|                    NULL|              NULL|              NULL|          NULL|          NULL|              NULL|               NULL|                     4.0|                     0.0|                     4.0|                     0.0|               -1423.0|              0|              1|              0|              0|              0|              0|              0|              0|               0|               0|               0|               0|               0|               0|               0|               0|               0|               0|               0|               0|                       0.0|                      0.0|                       0.0|                      0.0|                      0.0|                       2.0|\n",
      "|    100074|        Cash loans|          F|           N|              Y|           0|         67500.0|  675000.0|    25447.5|       675000.0|  Unaccompanied|           Pensioner|Secondary / secon...|             Married|House / apartment|      0.003121999999999...|    -23670|       365243|          -7490.0|          -4136|       NULL|         1|             0|              0|               1|         1|         0|                NULL|            2.0|                   3|                          3|                   TUESDAY|                     11|                         0|                         0|                          0|                     0|                     0|                      0|                 XNA|               NULL| 0.6600149063064604|0.29859498978739724|        0.0216|          0.0545|                     0.9781|           NULL|          NULL|          0.0|       0.1034|       0.0417|         NULL|      0.0095|                NULL|        0.0113|                   NULL|             NULL|         0.0221|           0.0566|                      0.9782|            NULL|           NULL|           0.0|        0.1034|        0.0417|          NULL|       0.0097|                 NULL|         0.0117|                    NULL|              NULL|         0.0219|           0.0545|                      0.9781|              NULL|           NULL|           0.0|        0.1034|        0.0417|          NULL|       0.0096|                 NULL|         0.0115|                    NULL|              NULL|              NULL|block of flats|        0.0136|      Stone, brick|                 No|                     0.0|                     0.0|                     0.0|                     0.0|               -1671.0|              0|              1|              0|              0|              0|              0|              0|              0|               0|               0|               0|               0|               0|               0|               0|               0|               0|               0|               0|               0|                       0.0|                      0.0|                       0.0|                      0.0|                      0.0|                       0.0|\n",
      "|    100090|        Cash loans|          F|           N|              Y|           0|        135000.0|  261621.0|    16848.0|       216000.0|  Unaccompanied|             Working|Secondary / secon...|               Widow|House / apartment|                  0.008019|    -15524|        -3555|          -7833.0|          -3985|       NULL|         1|             1|              0|               1|         0|         0|            Laborers|            1.0|                   2|                          2|                    FRIDAY|                     17|                         0|                         0|                          0|                     0|                     1|                      1|       Self-employed| 0.7567222383896386| 0.3937146969745023| 0.4365064990977374|          NULL|            NULL|                       NULL|           NULL|          NULL|         NULL|         NULL|         NULL|         NULL|        NULL|                NULL|          NULL|                   NULL|             NULL|           NULL|             NULL|                        NULL|            NULL|           NULL|          NULL|          NULL|          NULL|          NULL|         NULL|                 NULL|           NULL|                    NULL|              NULL|           NULL|             NULL|                        NULL|              NULL|           NULL|          NULL|          NULL|          NULL|          NULL|         NULL|                 NULL|           NULL|                    NULL|              NULL|              NULL|          NULL|          NULL|              NULL|               NULL|                     0.0|                     0.0|                     0.0|                     0.0|               -1097.0|              0|              1|              0|              0|              0|              0|              0|              0|               0|               0|               0|               0|               0|               0|               0|               0|               0|               0|               0|               0|                       0.0|                      0.0|                       0.0|                      0.0|                      0.0|                       5.0|\n",
      "|    100091|        Cash loans|          F|           N|              Y|           0|        247500.0|  296280.0|    23539.5|       225000.0|  Unaccompanied|             Working|Secondary / secon...|      Civil marriage|House / apartment|                  0.018634|    -12278|         -929|          -6031.0|          -4586|       NULL|         1|             1|              0|               1|         0|         0|                NULL|            2.0|                   2|                          2|                  THURSDAY|                     17|                         0|                         0|                          0|                     0|                     0|                      0|       Self-employed| 0.2632375980136291| 0.4700355103285236|   0.41534714488434|          NULL|            NULL|                       NULL|           NULL|          NULL|         NULL|         NULL|         NULL|         NULL|        NULL|                NULL|          NULL|                   NULL|             NULL|           NULL|             NULL|                        NULL|            NULL|           NULL|          NULL|          NULL|          NULL|          NULL|         NULL|                 NULL|           NULL|                    NULL|              NULL|           NULL|             NULL|                        NULL|              NULL|           NULL|          NULL|          NULL|          NULL|          NULL|         NULL|                 NULL|           NULL|                    NULL|              NULL|              NULL|          NULL|          NULL|              NULL|               NULL|                     1.0|                     1.0|                     1.0|                     0.0|                -619.0|              0|              1|              0|              0|              0|              0|              0|              0|               0|               0|               0|               0|               0|               0|               0|               0|               0|               0|               0|               0|                       0.0|                      0.0|                       0.0|                      0.0|                      1.0|                       3.0|\n",
      "|    100092|        Cash loans|          F|           Y|              Y|           0|         90000.0|  360000.0|    18535.5|       360000.0|  Unaccompanied|             Working|Secondary / secon...|             Married|House / apartment|      0.014519999999999996|    -19687|        -3578|         -10673.0|          -3183|        3.0|         1|             1|              0|               1|         0|         0|          Core staff|            2.0|                   2|                          2|                   TUESDAY|                      7|                         0|                         0|                          0|                     0|                     1|                      1|          Government| 0.3049397660767501| 0.2702553559832115|  0.375711009574066|          NULL|            NULL|                       NULL|           NULL|          NULL|         NULL|         NULL|         NULL|         NULL|        NULL|                NULL|          NULL|                   NULL|             NULL|           NULL|             NULL|                        NULL|            NULL|           NULL|          NULL|          NULL|          NULL|          NULL|         NULL|                 NULL|           NULL|                    NULL|              NULL|           NULL|             NULL|                        NULL|              NULL|           NULL|          NULL|          NULL|          NULL|          NULL|         NULL|                 NULL|           NULL|                    NULL|              NULL|              NULL|          NULL|          NULL|              NULL|               NULL|                     5.0|                     0.0|                     5.0|                     0.0|               -1414.0|              0|              1|              0|              0|              0|              0|              0|              0|               0|               0|               0|               0|               0|               0|               0|               0|               0|               0|               0|               0|                       0.0|                      0.0|                       0.0|                      0.0|                      1.0|                       1.0|\n",
      "|    100106|   Revolving loans|          M|           N|              Y|           0|        180000.0|  157500.0|     7875.0|       157500.0|Spouse, partner|             Working|Secondary / secon...|      Civil marriage|House / apartment|                  0.031329|    -12091|        -1830|          -1042.0|          -4221|       NULL|         1|             1|              0|               0|         0|         0|            Laborers|            2.0|                   2|                          2|                   TUESDAY|                      9|                         0|                         0|                          0|                     1|                     1|                      0|Business Entity T...|               NULL| 0.4857699312968558| 0.5797274227921155|          NULL|            NULL|                       NULL|           NULL|          NULL|         NULL|         NULL|         NULL|         NULL|        NULL|                NULL|          NULL|                   NULL|             NULL|           NULL|             NULL|                        NULL|            NULL|           NULL|          NULL|          NULL|          NULL|          NULL|         NULL|                 NULL|           NULL|                    NULL|              NULL|           NULL|             NULL|                        NULL|              NULL|           NULL|          NULL|          NULL|          NULL|          NULL|         NULL|                 NULL|           NULL|                    NULL|              NULL|              NULL|          NULL|          NULL|              NULL|               NULL|                     0.0|                     0.0|                     0.0|                     0.0|                -765.0|              0|              0|              0|              0|              0|              0|              0|              0|               0|               0|               0|               0|               0|               0|               0|               0|               0|               0|               0|               0|                       0.0|                      0.0|                       0.0|                      1.0|                      0.0|                       0.0|\n",
      "|    100107|        Cash loans|          M|           Y|              Y|           0|        180000.0|  296280.0|    21690.0|       225000.0|  Unaccompanied|             Working|Secondary / secon...|      Civil marriage|House / apartment|                  0.032561|    -13563|        -1007|          -5719.0|          -4044|       14.0|         1|             1|              0|               1|         0|         1|            Laborers|            2.0|                   1|                          1|                   TUESDAY|                     15|                         0|                         0|                          0|                     0|                     0|                      0|Business Entity T...|0.34416525809789483| 0.6844067238529257| 0.2636468134452008|        0.0371|          0.0361|                     0.9513|         0.3336|        0.0132|          0.0|       0.1379|        0.125|       0.1667|       0.032|              0.0286|        0.0613|                 0.0077|           7.0E-4|         0.0378|           0.0375|                      0.9513|          0.3597|         0.0134|           0.0|        0.1379|         0.125|        0.1667|       0.0327|               0.0312|         0.0639|                  0.0078|            8.0E-4|         0.0375|           0.0361|                      0.9513|            0.3425|         0.0133|           0.0|        0.1379|         0.125|        0.1667|       0.0326|               0.0291|         0.0624|                  0.0078|            7.0E-4|  reg oper account|block of flats|        0.0484|      Stone, brick|                 No|                     2.0|                     0.0|                     2.0|                     0.0|                -317.0|              0|              0|              0|              0|              0|              0|              1|              0|               0|               0|               0|               0|               0|               0|               0|               0|               0|               0|               0|               0|                       0.0|                      0.0|                       0.0|                      0.0|                      1.0|                       3.0|\n",
      "|    100109|        Cash loans|          F|           Y|              Y|           0|        202500.0|  407520.0|    26041.5|       360000.0|  Unaccompanied|             Working|Secondary / secon...|Single / not married|House / apartment|                   0.00702|    -19375|        -4739|          -3035.0|          -2895|       11.0|         1|             1|              1|               1|         0|         0|            Laborers|            1.0|                   2|                          2|                  SATURDAY|                     15|                         0|                         0|                          0|                     0|                     0|                      0|            Services| 0.5831178293057412| 0.6350278467719062|0.30620229831350426|          NULL|            NULL|                       NULL|           NULL|          NULL|         NULL|         NULL|         NULL|         NULL|        NULL|                NULL|          NULL|                   NULL|             NULL|           NULL|             NULL|                        NULL|            NULL|           NULL|          NULL|          NULL|          NULL|          NULL|         NULL|                 NULL|           NULL|                    NULL|              NULL|           NULL|             NULL|                        NULL|              NULL|           NULL|          NULL|          NULL|          NULL|          NULL|         NULL|                 NULL|           NULL|                    NULL|              NULL|              NULL|          NULL|          NULL|              NULL|               NULL|                     0.0|                     0.0|                     0.0|                     0.0|               -2154.0|              0|              1|              0|              0|              0|              0|              0|              0|               0|               0|               0|               0|               0|               0|               0|               0|               0|               0|               0|               0|                       0.0|                      0.0|                       0.0|                      0.0|                      0.0|                       3.0|\n",
      "|    100117|        Cash loans|          M|           Y|              Y|           0|         90000.0|  499221.0|    22117.5|       373500.0|  Unaccompanied|           Pensioner|Secondary / secon...|             Married|House / apartment|      0.003121999999999...|    -22705|       365243|          -5107.0|          -5990|       15.0|         1|             0|              0|               1|         0|         0|                NULL|            2.0|                   3|                          3|                    FRIDAY|                     10|                         0|                         0|                          0|                     0|                     0|                      0|                 XNA| 0.5871754960133346| 0.6467635239646198| 0.6528965519806539|          NULL|            NULL|                       NULL|           NULL|          NULL|         NULL|         NULL|         NULL|         NULL|        NULL|                NULL|          NULL|                   NULL|             NULL|           NULL|             NULL|                        NULL|            NULL|           NULL|          NULL|          NULL|          NULL|          NULL|         NULL|                 NULL|           NULL|                    NULL|              NULL|           NULL|             NULL|                        NULL|              NULL|           NULL|          NULL|          NULL|          NULL|          NULL|         NULL|                 NULL|           NULL|                    NULL|              NULL|              NULL|          NULL|          NULL|              NULL|               NULL|                     0.0|                     0.0|                     0.0|                     0.0|               -1132.0|              0|              1|              0|              0|              0|              0|              0|              0|               0|               0|               0|               0|               0|               0|               0|               0|               0|               0|               0|               0|                       0.0|                      0.0|                       0.0|                      0.0|                      1.0|                       0.0|\n",
      "|    100128|        Cash loans|          F|           Y|              Y|           1|        225000.0|  431280.0|    23526.0|       360000.0|  Unaccompanied|Commercial associate|    Higher education|      Civil marriage|     With parents|                  0.025164|    -10962|        -1883|            -99.0|          -1721|        8.0|         1|             1|              0|               1|         0|         1|            Managers|            3.0|                   2|                          2|                  THURSDAY|                     10|                         0|                         0|                          0|                     0|                     0|                      0|                Bank|0.33900238082742906| 0.3750732637427585|0.34741822720026416|        0.1093|          0.0464|                     0.9881|         0.8368|           0.0|         0.12|       0.1034|        0.375|       0.4167|         0.0|              0.0891|        0.0986|                    0.0|           0.0282|         0.1113|           0.0482|                      0.9881|          0.8432|            0.0|        0.1208|        0.1034|         0.375|        0.4167|          0.0|               0.0973|         0.1027|                     0.0|            0.0299|         0.1103|           0.0464|                      0.9881|0.8390000000000001|            0.0|          0.12|        0.1034|         0.375|        0.4167|          0.0|               0.0906|         0.1004|                     0.0|            0.0288|  reg oper account|block of flats|        0.0837|             Panel|                 No|                     5.0|                     0.0|                     5.0|                     0.0|               -1616.0|              0|              1|              0|              0|              0|              0|              0|              0|               0|               0|               0|               0|               0|               0|               0|               0|               0|               0|               0|               0|                       0.0|                      0.0|                       0.0|                      0.0|                      3.0|                       4.0|\n",
      "|    100141|        Cash loans|          F|           Y|              Y|           0|        175500.0|  478498.5|    46741.5|       454500.0|         Family|             Working|Secondary / secon...|             Married|House / apartment|                  0.010147|    -17955|         -305|         -10087.0|          -1516|       10.0|         1|             1|              1|               1|         0|         0|            Laborers|            2.0|                   2|                          2|                   TUESDAY|                     11|                         1|                         1|                          0|                     1|                     1|                      0|    Industry: type 3| 0.6965655054935606| 0.7427647756395467|               NULL|          NULL|            NULL|                       NULL|           NULL|          NULL|         NULL|         NULL|         NULL|         NULL|        NULL|                NULL|          NULL|                   NULL|             NULL|           NULL|             NULL|                        NULL|            NULL|           NULL|          NULL|          NULL|          NULL|          NULL|         NULL|                 NULL|           NULL|                    NULL|              NULL|           NULL|             NULL|                        NULL|              NULL|           NULL|          NULL|          NULL|          NULL|          NULL|         NULL|                 NULL|           NULL|                    NULL|              NULL|              NULL|          NULL|          NULL|              NULL|               NULL|                     0.0|                     0.0|                     0.0|                     0.0|                -814.0|              0|              1|              0|              0|              0|              0|              0|              0|               0|               0|               0|               0|               0|               0|               0|               0|               0|               0|               0|               0|                      NULL|                     NULL|                      NULL|                     NULL|                     NULL|                      NULL|\n",
      "+----------+------------------+-----------+------------+---------------+------------+----------------+----------+-----------+---------------+---------------+--------------------+--------------------+--------------------+-----------------+--------------------------+----------+-------------+-----------------+---------------+-----------+----------+--------------+---------------+----------------+----------+----------+--------------------+---------------+--------------------+---------------------------+--------------------------+-----------------------+--------------------------+--------------------------+---------------------------+----------------------+----------------------+-----------------------+--------------------+-------------------+-------------------+-------------------+--------------+----------------+---------------------------+---------------+--------------+-------------+-------------+-------------+-------------+------------+--------------------+--------------+-----------------------+-----------------+---------------+-----------------+----------------------------+----------------+---------------+--------------+--------------+--------------+--------------+-------------+---------------------+---------------+------------------------+------------------+---------------+-----------------+----------------------------+------------------+---------------+--------------+--------------+--------------+--------------+-------------+---------------------+---------------+------------------------+------------------+------------------+--------------+--------------+------------------+-------------------+------------------------+------------------------+------------------------+------------------------+----------------------+---------------+---------------+---------------+---------------+---------------+---------------+---------------+---------------+----------------+----------------+----------------+----------------+----------------+----------------+----------------+----------------+----------------+----------------+----------------+----------------+--------------------------+-------------------------+--------------------------+-------------------------+-------------------------+--------------------------+\n",
      "only showing top 20 rows\n",
      "\n"
     ]
    }
   ],
   "source": [
    "test = spark.read.csv(data_test, header = True, inferSchema = True)\n",
    "test.show(20)"
   ]
  },
  {
   "cell_type": "code",
   "execution_count": null,
   "metadata": {
    "colab": {
     "base_uri": "https://localhost:8080/"
    },
    "executionInfo": {
     "elapsed": 1164,
     "status": "ok",
     "timestamp": 1715869689824,
     "user": {
      "displayName": "Ngọc Tâm",
      "userId": "16309649879546506017"
     },
     "user_tz": -420
    },
    "id": "KFeV2Q3Hud1Y",
    "outputId": "6faf7ff1-55a0-427a-f9d7-519eba96facf"
   },
   "outputs": [
    {
     "name": "stdout",
     "output_type": "stream",
     "text": [
      "Số dòng của test:  48744\n",
      "Số cột của test:  121\n"
     ]
    }
   ],
   "source": [
    "print(\"Số dòng của test: \", test.count())\n",
    "print(\"Số cột của test: \", len(test.columns))"
   ]
  },
  {
   "cell_type": "markdown",
   "metadata": {
    "id": "V8yJ6-W7sqtZ"
   },
   "source": [
    "# **Làm sạch dữ liệu**"
   ]
  },
  {
   "cell_type": "markdown",
   "metadata": {
    "id": "LIX0uZpeu-k4"
   },
   "source": [
    "Xử lý giá trị thiếu"
   ]
  },
  {
   "cell_type": "code",
   "execution_count": null,
   "metadata": {
    "id": "5XFX2ZvqAo4L"
   },
   "outputs": [],
   "source": [
    "from pyspark.sql.functions import col\n",
    "import pyspark.sql.functions as F\n",
    "from pyspark.sql import SparkSession"
   ]
  },
  {
   "cell_type": "code",
   "execution_count": null,
   "metadata": {
    "id": "g7SosjZSsXYH"
   },
   "outputs": [],
   "source": [
    "missing_values = train.select([F.count(F.when(F.isnan(c) | F.isnull(c) | (F.col(c) == \"NULL\"), c)).alias(c) for c in train.columns])\n",
    "missing_values.show()"
   ]
  },
  {
   "cell_type": "code",
   "execution_count": null,
   "metadata": {
    "colab": {
     "background_save": true
    },
    "id": "J2BNNqmsAIdL"
   },
   "outputs": [],
   "source": [
    "# Tính tổng số lượng dòng trong dataframe\n",
    "total_rows = train.count()\n",
    "\n",
    "# Tính tỷ lệ giữa số lượng giá trị bị thiếu và tổng số lượng dòng cho mỗi cột\n",
    "missing_ratios = missing_values.select([(F.col(c) / total_rows).alias(c) for c in train.columns])\n",
    "\n",
    "# Chọn những cột có tỷ lệ giá trị bị thiếu lớn hơn 30%\n",
    "columns_to_drop = []\n",
    "for col_name in missing_ratios.columns:\n",
    "    missing_ratio = missing_ratios.select(col_name).collect()[0][0]\n",
    "    if missing_ratio > 0.3:\n",
    "        columns_to_drop.append(col_name)\n",
    "        print(f\"Column '{col_name}' has a missing ratio of {missing_ratio:.2%}\")"
   ]
  },
  {
   "cell_type": "code",
   "execution_count": null,
   "metadata": {
    "colab": {
     "background_save": true
    },
    "id": "9evNXmBVClqC"
   },
   "outputs": [],
   "source": [
    "# Loại bỏ các cột từ DataFrame\n",
    "train = train.drop(*columns_to_drop)"
   ]
  },
  {
   "cell_type": "code",
   "execution_count": null,
   "metadata": {
    "colab": {
     "background_save": true
    },
    "id": "fFT2NBF4EBHS"
   },
   "outputs": [],
   "source": [
    "# Kiểm tra lại số cột, trước đó là 122, sau là 72\n",
    "print(\"Số cột: \", len(train.columns))"
   ]
  },
  {
   "cell_type": "code",
   "execution_count": null,
   "metadata": {
    "colab": {
     "background_save": true
    },
    "id": "dOfwp1tvEa0S"
   },
   "outputs": [],
   "source": [
    "missing_values_percentage = train.agg(*[\n",
    "    (1 - (count(c) / count('*'))).alias(c + '_missing_percentage')\n",
    "    for c in train.columns\n",
    "])\n",
    "\n",
    "# Chọn ra những cột có tỉ lệ giá trị bị thiếu dưới 20%\n",
    "selected_columns = [\n",
    "    c for c in missing_values_percentage.columns\n",
    "    if missing_values_percentage.select(c).first()[0] < 0.2\n",
    "]\n",
    "\n",
    "# In ra các cột được chọn\n",
    "print(\"Các cột có tỉ lệ giá trị bị thiếu dưới 20%:\")\n",
    "print(selected_columns)"
   ]
  },
  {
   "cell_type": "code",
   "execution_count": null,
   "metadata": {
    "colab": {
     "background_save": true
    },
    "id": "UYg0ZRTFFfSK"
   },
   "outputs": [],
   "source": [
    "train.show()"
   ]
  },
  {
   "cell_type": "code",
   "execution_count": null,
   "metadata": {
    "colab": {
     "background_save": true
    },
    "id": "vzLQveCEGj9L"
   },
   "outputs": [],
   "source": [
    "# Loại bỏ các cột sau vì không có thông tin hữu ích\n",
    "trash = [\"FLAG_DOCUMENT_2\",\"FLAG_DOCUMENT_3\",\"FLAG_DOCUMENT_4\",\"FLAG_DOCUMENT_5\",\"FLAG_DOCUMENT_6\",\n",
    "         \"FLAG_DOCUMENT_7\",\"FLAG_DOCUMENT_8\",\"FLAG_DOCUMENT_9\",\"FLAG_DOCUMENT_10\",\"FLAG_DOCUMENT_11\",\n",
    "         \"FLAG_DOCUMENT_12\",\"FLAG_DOCUMENT_13\",\"FLAG_DOCUMENT_14\",\"FLAG_DOCUMENT_15\",\"FLAG_DOCUMENT_16\",\n",
    "         \"FLAG_DOCUMENT_17\",\"FLAG_DOCUMENT_18\",\"FLAG_DOCUMENT_19\",\"FLAG_DOCUMENT_20\",\"FLAG_DOCUMENT_21\",\n",
    "         \"CODE_GENDER\",\"CNT_CHILDREN\",\"NAME_TYPE_SUITE\",\"NAME_FAMILY_STATUS\",\"REGION_POPULATION_RELATIVE\",\n",
    "         \"DAYS_EMPLOYED\",\"DAYS_REGISTRATION\",\"DAYS_ID_PUBLISH\",\"OWN_CAR_AGE\",\"FLAG_EMP_PHONE\",\"FLAG_WORK_PHONE\",\n",
    "         \"FLAG_PHONE\",\"CNT_FAM_MEMBERS\",\"WEEKDAY_APPR_PROCESS_START\",\"HOUR_APPR_PROCESS_START\",\"REG_REGION_NOT_WORK_REGION\",\n",
    "         \"LIVE_REGION_NOT_WORK_REGION\",\"LIVE_CITY_NOT_WORK_CITY\",\"ORGANIZATION_TYPE\",\"APARTMENTS_AVG\",\"BASEMENTAREA_AVG\",\n",
    "         \"YEARS_BEGINEXPLUATATION_AVG\",\"YEARS_BUILD_AVG\",\"COMMONAREA_AVG\",\"ELEVATORS_AVG\",\"ENTRANCES_AVG\",\"FLOORSMAX_AVG\",\n",
    "         \"FLOORSMIN_AVG\",\"LANDAREA_AVG\",\"LIVINGAPARTMENTS_AVG\",\"LIVINGAREA_AVG\",\"NONLIVINGAPARTMENTS_AVG\",\"NONLIVINGAREA_AVG\",\n",
    "         \"APARTMENTS_MODE\",\"BASEMENTAREA_MODE\",\"YEARS_BEGINEXPLUATATION_MODE\",\"YEARS_BUILD_MODE\",\"COMMONAREA_MODE\",\"ELEVATORS_MODE\",\n",
    "         \"ENTRANCES_MODE\",\"FLOORSMAX_MODE\",\"FLOORSMIN_MODE\",\"LANDAREA_MODE\",\"LIVINGAPARTMENTS_MODE\"]"
   ]
  },
  {
   "cell_type": "code",
   "execution_count": null,
   "metadata": {
    "colab": {
     "background_save": true
    },
    "id": "D4dlYSunILVR"
   },
   "outputs": [],
   "source": [
    "train = train.drop(*trash)"
   ]
  },
  {
   "cell_type": "code",
   "execution_count": null,
   "metadata": {
    "id": "qxdz6PqWqKHl"
   },
   "outputs": [],
   "source": [
    "# Tạo số tiền vay trên giá trị tài sản\n",
    "train = train.withColumn(\"CREDIT_GOODS_PRICE_RATIO\", train[\"AMT_CREDIT\"] / train[\"AMT_GOODS_PRICE\"])"
   ]
  },
  {
   "cell_type": "code",
   "execution_count": null,
   "metadata": {
    "id": "kpopUVDqqJAF"
   },
   "outputs": [],
   "source": [
    "# Tạo tổng thu nhập hàng năm\n",
    "train = train.withColumn(\"ANNUAL_INCOME\", train[\"AMT_INCOME_TOTAL\"] * 365)"
   ]
  },
  {
   "cell_type": "code",
   "execution_count": null,
   "metadata": {
    "id": "zJKSN6qUqHxk"
   },
   "outputs": [],
   "source": [
    "# Tạo cột khoảng thời gian làm việc\n",
    "train = train.withColumn(\"YEARS_EMPLOYED\", floor(abs(train[\"DAYS_EMPLOYED\"]) / 365))"
   ]
  },
  {
   "cell_type": "code",
   "execution_count": null,
   "metadata": {
    "id": "d-xeiZB4qGNA"
   },
   "outputs": [],
   "source": [
    "# Tạo cột AGE từ DAYS_BIRTH\n",
    "train = train.withColumn(\"AGE\", floor(abs(train[\"DAYS_BIRTH\"]) / 365))"
   ]
  },
  {
   "cell_type": "code",
   "execution_count": null,
   "metadata": {
    "colab": {
     "background_save": true
    },
    "id": "ZMV-IoQQLFMh"
   },
   "outputs": [],
   "source": [
    "train.show()"
   ]
  },
  {
   "cell_type": "code",
   "execution_count": null,
   "metadata": {
    "colab": {
     "background_save": true
    },
    "id": "4rVaK5z6LHMR"
   },
   "outputs": [],
   "source": [
    "print(\"Số cột: \", len(train.columns))"
   ]
  },
  {
   "cell_type": "code",
   "execution_count": null,
   "metadata": {
    "colab": {
     "base_uri": "https://localhost:8080/"
    },
    "executionInfo": {
     "elapsed": 60847,
     "status": "ok",
     "timestamp": 1716050626071,
     "user": {
      "displayName": "Ngọc Tâm",
      "userId": "16309649879546506017"
     },
     "user_tz": -420
    },
    "id": "V1R4BololY5p",
    "outputId": "4df6da8d-2733-48dd-e9f8-b406da9b1730"
   },
   "outputs": [
    {
     "name": "stdout",
     "output_type": "stream",
     "text": [
      "Collecting pyspark\n",
      "  Downloading pyspark-3.5.1.tar.gz (317.0 MB)\n",
      "\u001b[2K     \u001b[90m━━━━━━━━━━━━━━━━━━━━━━━━━━━━━━━━━━━━━━━━\u001b[0m \u001b[32m317.0/317.0 MB\u001b[0m \u001b[31m2.3 MB/s\u001b[0m eta \u001b[36m0:00:00\u001b[0m\n",
      "\u001b[?25h  Preparing metadata (setup.py) ... \u001b[?25l\u001b[?25hdone\n",
      "Requirement already satisfied: py4j==0.10.9.7 in /usr/local/lib/python3.10/dist-packages (from pyspark) (0.10.9.7)\n",
      "Building wheels for collected packages: pyspark\n",
      "  Building wheel for pyspark (setup.py) ... \u001b[?25l\u001b[?25hdone\n",
      "  Created wheel for pyspark: filename=pyspark-3.5.1-py2.py3-none-any.whl size=317488491 sha256=804cd8d3821e261583388d4abfee26c32d69a66f3ec476b2d459faf73e409f51\n",
      "  Stored in directory: /root/.cache/pip/wheels/80/1d/60/2c256ed38dddce2fdd93be545214a63e02fbd8d74fb0b7f3a6\n",
      "Successfully built pyspark\n",
      "Installing collected packages: pyspark\n",
      "Successfully installed pyspark-3.5.1\n"
     ]
    }
   ],
   "source": [
    "!pip install pyspark"
   ]
  },
  {
   "cell_type": "code",
   "execution_count": null,
   "metadata": {
    "colab": {
     "base_uri": "https://localhost:8080/",
     "height": 211
    },
    "executionInfo": {
     "elapsed": 425,
     "status": "error",
     "timestamp": 1715933245425,
     "user": {
      "displayName": "Ngọc Tâm",
      "userId": "16309649879546506017"
     },
     "user_tz": -420
    },
    "id": "LTa55oF7jQB9",
    "outputId": "e162701e-2100-42a5-fcd6-ef3e6c672b40"
   },
   "outputs": [],
   "source": [
    "temp_output_path = \"/content/temp_clean_data\"\n",
    "\n",
    "# Xuất DataFrame ra tệp CSV\n",
    "train.coalesce(1).write.csv(temp_output_path, header=True, mode='overwrite')\n",
    "\n",
    "# Kiểm tra thư mục tạm thời để đảm bảo tệp đã được tạo\n",
    "import os\n",
    "print(os.listdir(temp_output_path))\n",
    "\n",
    "# Tìm tệp CSV thực sự trong thư mục xuất ra và đổi tên tệp\n",
    "import shutil\n",
    "for file in os.listdir(temp_output_path):\n",
    "    if file.startswith(\"part-00000\"):\n",
    "        shutil.move(os.path.join(temp_output_path, file), \"/content/clean_data.csv\")\n",
    "\n",
    "# Tải tệp xuống\n",
    "from google.colab import files\n",
    "files.download(\"/content/clean_data.csv\")"
   ]
  },
  {
   "cell_type": "markdown",
   "metadata": {
    "id": "aub6BsZ-lOqP"
   },
   "source": [
    "# **Chạy file bắt đầu từ đây với file clean_data.csv đã được lưu ở bên trên.**\n",
    "# "
   ]
  },
  {
   "cell_type": "code",
   "execution_count": null,
   "metadata": {
    "colab": {
     "base_uri": "https://localhost:8080/"
    },
    "executionInfo": {
     "elapsed": 74100,
     "status": "ok",
     "timestamp": 1716303345528,
     "user": {
      "displayName": "Ngọc Tâm",
      "userId": "16309649879546506017"
     },
     "user_tz": -420
    },
    "id": "YIfoAgtWhlho",
    "outputId": "28a6ea3d-9e69-4566-f1f5-29984f333005"
   },
   "outputs": [
    {
     "name": "stdout",
     "output_type": "stream",
     "text": [
      "Collecting pyspark\n",
      "  Downloading pyspark-3.5.1.tar.gz (317.0 MB)\n",
      "\u001b[2K     \u001b[90m━━━━━━━━━━━━━━━━━━━━━━━━━━━━━━━━━━━━━━━━\u001b[0m \u001b[32m317.0/317.0 MB\u001b[0m \u001b[31m2.0 MB/s\u001b[0m eta \u001b[36m0:00:00\u001b[0m\n",
      "\u001b[?25h  Preparing metadata (setup.py) ... \u001b[?25l\u001b[?25hdone\n",
      "Requirement already satisfied: py4j==0.10.9.7 in /usr/local/lib/python3.10/dist-packages (from pyspark) (0.10.9.7)\n",
      "Building wheels for collected packages: pyspark\n",
      "  Building wheel for pyspark (setup.py) ... \u001b[?25l\u001b[?25hdone\n",
      "  Created wheel for pyspark: filename=pyspark-3.5.1-py2.py3-none-any.whl size=317488491 sha256=95c19deff9c0c7c7212315483586f0f3c3bc973e21caf3b07016affe8370d24e\n",
      "  Stored in directory: /root/.cache/pip/wheels/80/1d/60/2c256ed38dddce2fdd93be545214a63e02fbd8d74fb0b7f3a6\n",
      "Successfully built pyspark\n",
      "Installing collected packages: pyspark\n",
      "Successfully installed pyspark-3.5.1\n"
     ]
    }
   ],
   "source": [
    "!pip install pyspark"
   ]
  },
  {
   "cell_type": "code",
   "execution_count": null,
   "metadata": {
    "id": "6NyrrxDalbbO"
   },
   "outputs": [],
   "source": [
    "# Import SparkSession from pyspark.sql\n",
    "from pyspark.sql import SparkSession\n",
    "\n",
    "from pyspark.ml.feature import VectorAssembler\n",
    "from pyspark.ml.regression import RandomForestRegressor\n",
    "from pyspark.ml import Pipeline\n",
    "\n",
    "# Import functions from pyspark.sql.functions\n",
    "from pyspark.sql.functions import *\n",
    "\n",
    "# For using window functions for aggregations or rankings\n",
    "from pyspark.sql.window import Window\n",
    "\n",
    "# For using data types when defining schemas or manipulating columns\n",
    "from pyspark.sql.types import *\n",
    "\n",
    "# Create a SparkSession, which is the entry point to programming Spark with the Dataset and DataFrame API\n",
    "spark = SparkSession.builder\n",
    "    .appName(\"Data Cleaning with PySpark\") \\\n",
    "    .getOrCreate()\n",
    "spark.conf.set(\"spark.sql.legacy.timeParserPolicy\", \"LEGACY\")\n"
   ]
  },
  {
   "cell_type": "code",
   "execution_count": null,
   "metadata": {
    "colab": {
     "base_uri": "https://localhost:8080/"
    },
    "executionInfo": {
     "elapsed": 19322,
     "status": "ok",
     "timestamp": 1716303382269,
     "user": {
      "displayName": "Ngọc Tâm",
      "userId": "16309649879546506017"
     },
     "user_tz": -420
    },
    "id": "75dLF5AZljJ9",
    "outputId": "4aad2d58-44bf-4f66-a325-e6a1b47b0fbb"
   },
   "outputs": [
    {
     "name": "stdout",
     "output_type": "stream",
     "text": [
      "Mounted at /content/drive\n"
     ]
    }
   ],
   "source": [
    "from google.colab import drive\n",
    "drive.mount('/content/drive')"
   ]
  },
  {
   "cell_type": "code",
   "execution_count": null,
   "metadata": {
    "id": "i4-jfoi8Labv"
   },
   "outputs": [],
   "source": [
    "link_clean_data = \"/content/drive/MyDrive/BigData/W7/clean_data.csv\""
   ]
  },
  {
   "cell_type": "code",
   "execution_count": null,
   "metadata": {
    "colab": {
     "base_uri": "https://localhost:8080/"
    },
    "executionInfo": {
     "elapsed": 28063,
     "status": "ok",
     "timestamp": 1716303410330,
     "user": {
      "displayName": "Ngọc Tâm",
      "userId": "16309649879546506017"
     },
     "user_tz": -420
    },
    "id": "Xu_L1MiX3zb3",
    "outputId": "7ddd8872-381e-4a68-957c-3a64843ef791"
   },
   "outputs": [
    {
     "name": "stdout",
     "output_type": "stream",
     "text": [
      "+----------+------+------------------+------------+---------------+----------------+----------+-----------+---------------+--------------------+--------------------+-----------------+----------+----------+----------------+----------+--------------------+---------------------------+--------------------------+----------------------+----------------------+-------------------+-------------------+------------------------+------------------------+------------------------+------------------------+----------------------+--------------------------+-------------------------+--------------------------+-------------------------+-------------------------+--------------------------+\n",
      "|SK_ID_CURR|TARGET|NAME_CONTRACT_TYPE|FLAG_OWN_CAR|FLAG_OWN_REALTY|AMT_INCOME_TOTAL|AMT_CREDIT|AMT_ANNUITY|AMT_GOODS_PRICE|    NAME_INCOME_TYPE| NAME_EDUCATION_TYPE|NAME_HOUSING_TYPE|DAYS_BIRTH|FLAG_MOBIL|FLAG_CONT_MOBILE|FLAG_EMAIL|REGION_RATING_CLIENT|REGION_RATING_CLIENT_W_CITY|REG_REGION_NOT_LIVE_REGION|REG_CITY_NOT_LIVE_CITY|REG_CITY_NOT_WORK_CITY|       EXT_SOURCE_2|       EXT_SOURCE_3|OBS_30_CNT_SOCIAL_CIRCLE|DEF_30_CNT_SOCIAL_CIRCLE|OBS_60_CNT_SOCIAL_CIRCLE|DEF_60_CNT_SOCIAL_CIRCLE|DAYS_LAST_PHONE_CHANGE|AMT_REQ_CREDIT_BUREAU_HOUR|AMT_REQ_CREDIT_BUREAU_DAY|AMT_REQ_CREDIT_BUREAU_WEEK|AMT_REQ_CREDIT_BUREAU_MON|AMT_REQ_CREDIT_BUREAU_QRT|AMT_REQ_CREDIT_BUREAU_YEAR|\n",
      "+----------+------+------------------+------------+---------------+----------------+----------+-----------+---------------+--------------------+--------------------+-----------------+----------+----------+----------------+----------+--------------------+---------------------------+--------------------------+----------------------+----------------------+-------------------+-------------------+------------------------+------------------------+------------------------+------------------------+----------------------+--------------------------+-------------------------+--------------------------+-------------------------+-------------------------+--------------------------+\n",
      "|    100002|     1|        Cash loans|           N|              Y|        202500.0|  406597.5|    24700.5|       351000.0|             Working|Secondary / secon...|House / apartment|     -9461|         1|               1|         0|                   2|                          2|                         0|                     0|                     0| 0.2629485927471776|0.13937578009978951|                     2.0|                     2.0|                     2.0|                     2.0|               -1134.0|                       0.0|                      0.0|                       0.0|                      0.0|                      0.0|                       1.0|\n",
      "|    100003|     0|        Cash loans|           N|              N|        270000.0| 1293502.5|    35698.5|      1129500.0|       State servant|    Higher education|House / apartment|    -16765|         1|               1|         0|                   1|                          1|                         0|                     0|                     0| 0.6222457752555098|               NULL|                     1.0|                     0.0|                     1.0|                     0.0|                -828.0|                       0.0|                      0.0|                       0.0|                      0.0|                      0.0|                       0.0|\n",
      "|    100004|     0|   Revolving loans|           Y|              Y|         67500.0|  135000.0|     6750.0|       135000.0|             Working|Secondary / secon...|House / apartment|    -19046|         1|               1|         0|                   2|                          2|                         0|                     0|                     0| 0.5559120833904428| 0.7295666907060153|                     0.0|                     0.0|                     0.0|                     0.0|                -815.0|                       0.0|                      0.0|                       0.0|                      0.0|                      0.0|                       0.0|\n",
      "|    100006|     0|        Cash loans|           N|              Y|        135000.0|  312682.5|    29686.5|       297000.0|             Working|Secondary / secon...|House / apartment|    -19005|         1|               1|         0|                   2|                          2|                         0|                     0|                     0| 0.6504416904014653|               NULL|                     2.0|                     0.0|                     2.0|                     0.0|                -617.0|                      NULL|                     NULL|                      NULL|                     NULL|                     NULL|                      NULL|\n",
      "|    100007|     0|        Cash loans|           N|              Y|        121500.0|  513000.0|    21865.5|       513000.0|             Working|Secondary / secon...|House / apartment|    -19932|         1|               1|         0|                   2|                          2|                         0|                     0|                     1| 0.3227382869704046|               NULL|                     0.0|                     0.0|                     0.0|                     0.0|               -1106.0|                       0.0|                      0.0|                       0.0|                      0.0|                      0.0|                       0.0|\n",
      "|    100008|     0|        Cash loans|           N|              Y|         99000.0|  490495.5|    27517.5|       454500.0|       State servant|Secondary / secon...|House / apartment|    -16941|         1|               1|         0|                   2|                          2|                         0|                     0|                     0| 0.3542247319929012| 0.6212263380626669|                     0.0|                     0.0|                     0.0|                     0.0|               -2536.0|                       0.0|                      0.0|                       0.0|                      0.0|                      1.0|                       1.0|\n",
      "|    100009|     0|        Cash loans|           Y|              Y|        171000.0| 1560726.0|    41301.0|      1395000.0|Commercial associate|    Higher education|House / apartment|    -13778|         1|               1|         0|                   2|                          2|                         0|                     0|                     0| 0.7239998516953141| 0.4920600938649263|                     1.0|                     0.0|                     1.0|                     0.0|               -1562.0|                       0.0|                      0.0|                       0.0|                      1.0|                      1.0|                       2.0|\n",
      "|    100010|     0|        Cash loans|           Y|              Y|        360000.0| 1530000.0|    42075.0|      1530000.0|       State servant|    Higher education|House / apartment|    -18850|         1|               1|         0|                   3|                          3|                         0|                     0|                     1| 0.7142792864482229| 0.5406544504453575|                     2.0|                     0.0|                     2.0|                     0.0|               -1070.0|                       0.0|                      0.0|                       0.0|                      0.0|                      0.0|                       0.0|\n",
      "|    100011|     0|        Cash loans|           N|              Y|        112500.0| 1019610.0|    33826.5|       913500.0|           Pensioner|Secondary / secon...|House / apartment|    -20099|         1|               1|         0|                   2|                          2|                         0|                     0|                     0|0.20574728800732814| 0.7517237147741489|                     1.0|                     0.0|                     1.0|                     0.0|                   0.0|                       0.0|                      0.0|                       0.0|                      0.0|                      0.0|                       1.0|\n",
      "|    100012|     0|   Revolving loans|           N|              Y|        135000.0|  405000.0|    20250.0|       405000.0|             Working|Secondary / secon...|House / apartment|    -14469|         1|               1|         0|                   2|                          2|                         0|                     0|                     0| 0.7466436294590924|               NULL|                     2.0|                     0.0|                     2.0|                     0.0|               -1673.0|                      NULL|                     NULL|                      NULL|                     NULL|                     NULL|                      NULL|\n",
      "+----------+------+------------------+------------+---------------+----------------+----------+-----------+---------------+--------------------+--------------------+-----------------+----------+----------+----------------+----------+--------------------+---------------------------+--------------------------+----------------------+----------------------+-------------------+-------------------+------------------------+------------------------+------------------------+------------------------+----------------------+--------------------------+-------------------------+--------------------------+-------------------------+-------------------------+--------------------------+\n",
      "only showing top 10 rows\n",
      "\n"
     ]
    }
   ],
   "source": [
    "#df = spark.read.csv(\"clean_data.csv\", header = True, inferSchema = True)\n",
    "#df.show(10)\n",
    "df = spark.read.csv(link_clean_data, header = True, inferSchema = True)\n",
    "df.show(10)"
   ]
  },
  {
   "cell_type": "code",
   "execution_count": null,
   "metadata": {
    "colab": {
     "base_uri": "https://localhost:8080/"
    },
    "executionInfo": {
     "elapsed": 9553,
     "status": "ok",
     "timestamp": 1716303419874,
     "user": {
      "displayName": "Ngọc Tâm",
      "userId": "16309649879546506017"
     },
     "user_tz": -420
    },
    "id": "b73xIZZglRxo",
    "outputId": "a495db8a-4cc4-4a50-bc85-ad2b7a01d0c8"
   },
   "outputs": [
    {
     "name": "stdout",
     "output_type": "stream",
     "text": [
      "+----------+------+------------------+------------+---------------+----------------+----------+-----------+---------------+----------------+-------------------+-----------------+----------+----------+----------------+----------+--------------------+---------------------------+--------------------------+----------------------+----------------------+------------+------------+------------------------+------------------------+------------------------+------------------------+----------------------+--------------------------+-------------------------+--------------------------+-------------------------+-------------------------+--------------------------+\n",
      "|SK_ID_CURR|TARGET|NAME_CONTRACT_TYPE|FLAG_OWN_CAR|FLAG_OWN_REALTY|AMT_INCOME_TOTAL|AMT_CREDIT|AMT_ANNUITY|AMT_GOODS_PRICE|NAME_INCOME_TYPE|NAME_EDUCATION_TYPE|NAME_HOUSING_TYPE|DAYS_BIRTH|FLAG_MOBIL|FLAG_CONT_MOBILE|FLAG_EMAIL|REGION_RATING_CLIENT|REGION_RATING_CLIENT_W_CITY|REG_REGION_NOT_LIVE_REGION|REG_CITY_NOT_LIVE_CITY|REG_CITY_NOT_WORK_CITY|EXT_SOURCE_2|EXT_SOURCE_3|OBS_30_CNT_SOCIAL_CIRCLE|DEF_30_CNT_SOCIAL_CIRCLE|OBS_60_CNT_SOCIAL_CIRCLE|DEF_60_CNT_SOCIAL_CIRCLE|DAYS_LAST_PHONE_CHANGE|AMT_REQ_CREDIT_BUREAU_HOUR|AMT_REQ_CREDIT_BUREAU_DAY|AMT_REQ_CREDIT_BUREAU_WEEK|AMT_REQ_CREDIT_BUREAU_MON|AMT_REQ_CREDIT_BUREAU_QRT|AMT_REQ_CREDIT_BUREAU_YEAR|\n",
      "+----------+------+------------------+------------+---------------+----------------+----------+-----------+---------------+----------------+-------------------+-----------------+----------+----------+----------------+----------+--------------------+---------------------------+--------------------------+----------------------+----------------------+------------+------------+------------------------+------------------------+------------------------+------------------------+----------------------+--------------------------+-------------------------+--------------------------+-------------------------+-------------------------+--------------------------+\n",
      "|         0|     0|                 0|           0|              0|               0|         0|         12|            278|               0|                  0|                0|         0|         0|               0|         0|                   0|                          0|                         0|                     0|                     0|         660|       60965|                    1021|                    1021|                    1021|                    1021|                     1|                     41519|                    41519|                     41519|                    41519|                    41519|                     41519|\n",
      "+----------+------+------------------+------------+---------------+----------------+----------+-----------+---------------+----------------+-------------------+-----------------+----------+----------+----------------+----------+--------------------+---------------------------+--------------------------+----------------------+----------------------+------------+------------+------------------------+------------------------+------------------------+------------------------+----------------------+--------------------------+-------------------------+--------------------------+-------------------------+-------------------------+--------------------------+\n",
      "\n",
      "Cột AMT_ANNUITY có 12 giá trị null\n",
      "Cột AMT_GOODS_PRICE có 278 giá trị null\n",
      "Cột EXT_SOURCE_2 có 660 giá trị null\n",
      "Cột EXT_SOURCE_3 có 60965 giá trị null\n",
      "Cột OBS_30_CNT_SOCIAL_CIRCLE có 1021 giá trị null\n",
      "Cột DEF_30_CNT_SOCIAL_CIRCLE có 1021 giá trị null\n",
      "Cột OBS_60_CNT_SOCIAL_CIRCLE có 1021 giá trị null\n",
      "Cột DEF_60_CNT_SOCIAL_CIRCLE có 1021 giá trị null\n",
      "Cột DAYS_LAST_PHONE_CHANGE có 1 giá trị null\n",
      "Cột AMT_REQ_CREDIT_BUREAU_HOUR có 41519 giá trị null\n",
      "Cột AMT_REQ_CREDIT_BUREAU_DAY có 41519 giá trị null\n",
      "Cột AMT_REQ_CREDIT_BUREAU_WEEK có 41519 giá trị null\n",
      "Cột AMT_REQ_CREDIT_BUREAU_MON có 41519 giá trị null\n",
      "Cột AMT_REQ_CREDIT_BUREAU_QRT có 41519 giá trị null\n",
      "Cột AMT_REQ_CREDIT_BUREAU_YEAR có 41519 giá trị null\n"
     ]
    }
   ],
   "source": [
    "null_counts = df.select([sum(col(c).isNull().cast(\"int\")).alias(c) for c in df.columns])\n",
    "\n",
    "# Hiển thị kết quả\n",
    "null_counts.show()\n",
    "\n",
    "# Chuyển kết quả thành DataFrame\n",
    "null_counts_dict = null_counts.collect()[0].asDict()\n",
    "\n",
    "# Lọc các cột có giá trị null nhiều hơn 0\n",
    "columns_with_nulls = {k: v for k, v in null_counts_dict.items() if v > 0}\n",
    "\n",
    "# Hiển thị kết quả\n",
    "for column, count in columns_with_nulls.items():\n",
    "    print(f\"Cột {column} có {count} giá trị null\")"
   ]
  },
  {
   "cell_type": "markdown",
   "metadata": {
    "id": "e6jD_CYAEgW7"
   },
   "source": [
    "Xử lý các giá trị bị Null cho các cột AMT_REQ_CREDIT_BUREAU_\n",
    "\n",
    "Tại vì chứa Null, có thể là họ chưa check thẻ tín dụng bao giờ. Do đó thay thế giá trị Null là 0."
   ]
  },
  {
   "cell_type": "code",
   "execution_count": null,
   "metadata": {
    "colab": {
     "base_uri": "https://localhost:8080/"
    },
    "executionInfo": {
     "elapsed": 4317,
     "status": "ok",
     "timestamp": 1716303424189,
     "user": {
      "displayName": "Ngọc Tâm",
      "userId": "16309649879546506017"
     },
     "user_tz": -420
    },
    "id": "pLByWCruCM4N",
    "outputId": "c61959c0-47ae-4944-bb66-ee3eb6a423a8"
   },
   "outputs": [
    {
     "name": "stdout",
     "output_type": "stream",
     "text": [
      "+--------------------------+------+\n",
      "|AMT_REQ_CREDIT_BUREAU_HOUR| count|\n",
      "+--------------------------+------+\n",
      "|                       0.0|264366|\n",
      "|                      NULL| 41519|\n",
      "|                       1.0|  1560|\n",
      "|                       4.0|     1|\n",
      "|                       3.0|     9|\n",
      "|                       2.0|    56|\n",
      "+--------------------------+------+\n",
      "\n"
     ]
    }
   ],
   "source": [
    "df.groupBy(\"AMT_REQ_CREDIT_BUREAU_HOUR\").count().show()"
   ]
  },
  {
   "cell_type": "code",
   "execution_count": null,
   "metadata": {
    "id": "BOk2k03eESrL"
   },
   "outputs": [],
   "source": [
    "df = df.withColumn(\"AMT_REQ_CREDIT_BUREAU_HOUR\",\n",
    "                   col(\"AMT_REQ_CREDIT_BUREAU_HOUR\").cast(\"double\"))\n",
    "\n",
    "df = df.fillna({\"AMT_REQ_CREDIT_BUREAU_HOUR\": 0})"
   ]
  },
  {
   "cell_type": "code",
   "execution_count": null,
   "metadata": {
    "colab": {
     "base_uri": "https://localhost:8080/"
    },
    "executionInfo": {
     "elapsed": 2867,
     "status": "ok",
     "timestamp": 1716303427054,
     "user": {
      "displayName": "Ngọc Tâm",
      "userId": "16309649879546506017"
     },
     "user_tz": -420
    },
    "id": "A74xUjcYEp9G",
    "outputId": "04213911-17a6-4b38-bf9b-3afea6b7c843"
   },
   "outputs": [
    {
     "name": "stdout",
     "output_type": "stream",
     "text": [
      "+-------------------------+------+\n",
      "|AMT_REQ_CREDIT_BUREAU_DAY| count|\n",
      "+-------------------------+------+\n",
      "|                      8.0|     1|\n",
      "|                      0.0|264503|\n",
      "|                     NULL| 41519|\n",
      "|                      1.0|  1292|\n",
      "|                      4.0|    26|\n",
      "|                      3.0|    45|\n",
      "|                      2.0|   106|\n",
      "|                      6.0|     8|\n",
      "|                      5.0|     9|\n",
      "|                      9.0|     2|\n",
      "+-------------------------+------+\n",
      "\n"
     ]
    }
   ],
   "source": [
    "df.groupBy(\"AMT_REQ_CREDIT_BUREAU_DAY\").count().show()"
   ]
  },
  {
   "cell_type": "code",
   "execution_count": null,
   "metadata": {
    "id": "2cxL1--lEvzN"
   },
   "outputs": [],
   "source": [
    "df = df.withColumn(\"AMT_REQ_CREDIT_BUREAU_DAY\",\n",
    "                   col(\"AMT_REQ_CREDIT_BUREAU_DAY\").cast(\"double\"))\n",
    "\n",
    "df = df.fillna({\"AMT_REQ_CREDIT_BUREAU_DAY\": 0})"
   ]
  },
  {
   "cell_type": "code",
   "execution_count": null,
   "metadata": {
    "colab": {
     "base_uri": "https://localhost:8080/"
    },
    "executionInfo": {
     "elapsed": 1641,
     "status": "ok",
     "timestamp": 1716303428693,
     "user": {
      "displayName": "Ngọc Tâm",
      "userId": "16309649879546506017"
     },
     "user_tz": -420
    },
    "id": "tn5YeYN0EzE0",
    "outputId": "6e103210-6825-4bda-fcce-c0fe61227968"
   },
   "outputs": [
    {
     "name": "stdout",
     "output_type": "stream",
     "text": [
      "+--------------------------+------+\n",
      "|AMT_REQ_CREDIT_BUREAU_WEEK| count|\n",
      "+--------------------------+------+\n",
      "|                       8.0|     5|\n",
      "|                       0.0|257456|\n",
      "|                      NULL| 41519|\n",
      "|                       1.0|  8208|\n",
      "|                       4.0|    34|\n",
      "|                       3.0|    58|\n",
      "|                       2.0|   199|\n",
      "|                       6.0|    20|\n",
      "|                       5.0|    10|\n",
      "|                       7.0|     2|\n",
      "+--------------------------+------+\n",
      "\n"
     ]
    }
   ],
   "source": [
    "df.groupBy(\"AMT_REQ_CREDIT_BUREAU_WEEK\").count().show()"
   ]
  },
  {
   "cell_type": "code",
   "execution_count": null,
   "metadata": {
    "id": "yY1uRk0xE8HS"
   },
   "outputs": [],
   "source": [
    "df = df.withColumn(\"AMT_REQ_CREDIT_BUREAU_WEEK\",\n",
    "                   col(\"AMT_REQ_CREDIT_BUREAU_WEEK\").cast(\"double\"))\n",
    "\n",
    "df = df.fillna({\"AMT_REQ_CREDIT_BUREAU_WEEK\": 0})"
   ]
  },
  {
   "cell_type": "code",
   "execution_count": null,
   "metadata": {
    "colab": {
     "base_uri": "https://localhost:8080/"
    },
    "executionInfo": {
     "elapsed": 1588,
     "status": "ok",
     "timestamp": 1716303430280,
     "user": {
      "displayName": "Ngọc Tâm",
      "userId": "16309649879546506017"
     },
     "user_tz": -420
    },
    "id": "XlQsUINDFCTC",
    "outputId": "6e1fbc10-c655-40e8-a927-80306055751b"
   },
   "outputs": [
    {
     "name": "stdout",
     "output_type": "stream",
     "text": [
      "+-------------------------+------+\n",
      "|AMT_REQ_CREDIT_BUREAU_MON| count|\n",
      "+-------------------------+------+\n",
      "|                      8.0|   185|\n",
      "|                      0.0|222233|\n",
      "|                      7.0|   298|\n",
      "|                     NULL| 41519|\n",
      "|                     18.0|     6|\n",
      "|                      1.0| 33147|\n",
      "|                      4.0|  1076|\n",
      "|                     23.0|     1|\n",
      "|                     11.0|   119|\n",
      "|                     14.0|    40|\n",
      "|                      3.0|  1991|\n",
      "|                     19.0|     3|\n",
      "|                      2.0|  5386|\n",
      "|                     17.0|    14|\n",
      "|                     10.0|   132|\n",
      "|                     13.0|    72|\n",
      "|                      6.0|   343|\n",
      "|                      5.0|   602|\n",
      "|                     24.0|     1|\n",
      "|                     15.0|    35|\n",
      "+-------------------------+------+\n",
      "only showing top 20 rows\n",
      "\n"
     ]
    }
   ],
   "source": [
    "df.groupBy(\"AMT_REQ_CREDIT_BUREAU_MON\").count().show()"
   ]
  },
  {
   "cell_type": "code",
   "execution_count": null,
   "metadata": {
    "id": "mYiNe4vuFEpY"
   },
   "outputs": [],
   "source": [
    "df = df.withColumn(\"AMT_REQ_CREDIT_BUREAU_MON\",\n",
    "                   col(\"AMT_REQ_CREDIT_BUREAU_MON\").cast(\"double\"))\n",
    "\n",
    "df = df.fillna({\"AMT_REQ_CREDIT_BUREAU_MON\": 0})"
   ]
  },
  {
   "cell_type": "code",
   "execution_count": null,
   "metadata": {
    "colab": {
     "base_uri": "https://localhost:8080/"
    },
    "executionInfo": {
     "elapsed": 2012,
     "status": "ok",
     "timestamp": 1716303432291,
     "user": {
      "displayName": "Ngọc Tâm",
      "userId": "16309649879546506017"
     },
     "user_tz": -420
    },
    "id": "mm0CQGJfFgJm",
    "outputId": "a18eef84-2e38-4496-d124-6d5161f2e7cf"
   },
   "outputs": [
    {
     "name": "stdout",
     "output_type": "stream",
     "text": [
      "+-------------------------+------+\n",
      "|AMT_REQ_CREDIT_BUREAU_QRT| count|\n",
      "+-------------------------+------+\n",
      "|                      8.0|     7|\n",
      "|                      0.0|215417|\n",
      "|                      7.0|     7|\n",
      "|                     NULL| 41519|\n",
      "|                      1.0| 33862|\n",
      "|                      4.0|   476|\n",
      "|                      3.0|  1717|\n",
      "|                      2.0| 14412|\n",
      "|                      6.0|    28|\n",
      "|                      5.0|    64|\n",
      "|                     19.0|     1|\n",
      "|                    261.0|     1|\n",
      "+-------------------------+------+\n",
      "\n"
     ]
    }
   ],
   "source": [
    "df.groupBy(\"AMT_REQ_CREDIT_BUREAU_QRT\").count().show()"
   ]
  },
  {
   "cell_type": "code",
   "execution_count": null,
   "metadata": {
    "id": "2FLZQJexFjyn"
   },
   "outputs": [],
   "source": [
    "df = df.withColumn(\"AMT_REQ_CREDIT_BUREAU_QRT\",\n",
    "                   col(\"AMT_REQ_CREDIT_BUREAU_QRT\").cast(\"double\"))\n",
    "\n",
    "df = df.fillna({\"AMT_REQ_CREDIT_BUREAU_QRT\": 0})"
   ]
  },
  {
   "cell_type": "code",
   "execution_count": null,
   "metadata": {
    "colab": {
     "base_uri": "https://localhost:8080/"
    },
    "executionInfo": {
     "elapsed": 1397,
     "status": "ok",
     "timestamp": 1716303433686,
     "user": {
      "displayName": "Ngọc Tâm",
      "userId": "16309649879546506017"
     },
     "user_tz": -420
    },
    "id": "Ldi0JHuQFnoP",
    "outputId": "48342752-7807-420a-a0c1-baaaa90cddf0"
   },
   "outputs": [
    {
     "name": "stdout",
     "output_type": "stream",
     "text": [
      "+--------------------------+-----+\n",
      "|AMT_REQ_CREDIT_BUREAU_YEAR|count|\n",
      "+--------------------------+-----+\n",
      "|                       8.0| 2127|\n",
      "|                       0.0|71801|\n",
      "|                       7.0| 3869|\n",
      "|                      NULL|41519|\n",
      "|                      18.0|    4|\n",
      "|                       1.0|63405|\n",
      "|                      25.0|    1|\n",
      "|                       4.0|20714|\n",
      "|                      23.0|    1|\n",
      "|                      11.0|   31|\n",
      "|                      21.0|    1|\n",
      "|                      14.0|   10|\n",
      "|                      22.0|    1|\n",
      "|                       3.0|33628|\n",
      "|                      19.0|    4|\n",
      "|                       2.0|50192|\n",
      "|                      17.0|    7|\n",
      "|                      10.0|   22|\n",
      "|                      13.0|   19|\n",
      "|                       6.0| 6967|\n",
      "+--------------------------+-----+\n",
      "only showing top 20 rows\n",
      "\n"
     ]
    }
   ],
   "source": [
    "df.groupBy(\"AMT_REQ_CREDIT_BUREAU_YEAR\").count().show()"
   ]
  },
  {
   "cell_type": "code",
   "execution_count": null,
   "metadata": {
    "id": "sPDEgdQTFpfE"
   },
   "outputs": [],
   "source": [
    "df = df.withColumn(\"AMT_REQ_CREDIT_BUREAU_YEAR\",\n",
    "                   col(\"AMT_REQ_CREDIT_BUREAU_YEAR\").cast(\"double\"))\n",
    "\n",
    "df = df.fillna({\"AMT_REQ_CREDIT_BUREAU_YEAR\": 0})"
   ]
  },
  {
   "cell_type": "markdown",
   "metadata": {
    "id": "AupLjtkcG0iB"
   },
   "source": [
    "Xử lý các giá trị Null tại cột AMT_ANNUITY( AMT_ANNUITY là số tiền mà người vay phải trả hàng tháng cho khoản vay của mình )\n",
    "\n",
    "Null ở đây có thể là họ chưa từng vay, nên không có số tiền người đó phải trả hàng tháng cho khoản vay của họ.\n",
    "\n",
    "Do đó sẽ thay thế Null bằng giá trị 0."
   ]
  },
  {
   "cell_type": "code",
   "execution_count": null,
   "metadata": {
    "id": "qUBPl3zgHZe6"
   },
   "outputs": [],
   "source": [
    "df = df.withColumn(\"AMT_ANNUITY\", col(\"AMT_ANNUITY\").cast(\"double\"))\n",
    "\n",
    "# Thay thế các giá trị Null trong cột AMT_ANNUITY thành 0\n",
    "df = df.fillna({\"AMT_ANNUITY\": 0})"
   ]
  },
  {
   "cell_type": "markdown",
   "metadata": {
    "id": "ApOYPij1Joze"
   },
   "source": [
    "Xử lý các giá trị Null của cột AMT_GOODS_PRICE ( Cột \"AMT_GOODS_PRICE\" trong dữ liệu thường đề cập đến giá của mặt hàng được mua bằng khoản vay, chẳng hạn như giá của căn hộ, xe hơi, hoặc bất kỳ tài sản nào khác mà khoản vay được sử dụng để mua. )\n",
    "\n",
    "Ở đây, người vay không đề cập gì đến giá trị của món hàng được mua bằng khoản vay.\n",
    "\n",
    "Do đó sẽ bỏ những dòng chứa giá trị Null ( 278 giá trị )"
   ]
  },
  {
   "cell_type": "code",
   "execution_count": null,
   "metadata": {
    "id": "vQaHQm_iKEj6"
   },
   "outputs": [],
   "source": [
    "df = df.na.drop(subset=[\"AMT_GOODS_PRICE\"])"
   ]
  },
  {
   "cell_type": "markdown",
   "metadata": {
    "id": "jfMLuz-6KZZW"
   },
   "source": [
    "Xử lý các giá trị Null tại cột EXT_SOURCE_2,3\n",
    "\n",
    "EXT_SOURCE_2,3 là điểm số được chuẩn hóa từ nguồn dữ liệu bên ngoài. Dao động từ 0-1, điểm càng lớn có thể khả năng trả được nợ (uy tín) càng cao.\n",
    "\n",
    "EXT_SOURCE_2 có 660 giá trị Null\n",
    "\n",
    "EXT_SOURCE_3 có 60965 giá trị Null\n",
    "\n",
    "Gía trị Null ở đây có thể là người đó chưa đi chuẩn hóa điểm. Nên không thể biết người đó có uy tín hay không. Nên đối với EXT_SOURCE_2 (660 giá trị Null) thì sẽ bỏ những dòng Null. Còn đối với EXT_SOURCE_3 thì bỏ cột vì giá trị thiếu quá nhiều."
   ]
  },
  {
   "cell_type": "code",
   "execution_count": null,
   "metadata": {
    "id": "_jj7W_WZMUab"
   },
   "outputs": [],
   "source": [
    "df = df.na.drop(subset=[\"EXT_SOURCE_2\"])\n",
    "df = df.drop(\"EXT_SOURCE_3\")"
   ]
  },
  {
   "cell_type": "markdown",
   "metadata": {
    "id": "DkV45l2XNmdS"
   },
   "source": [
    "Xử lý các giá trị Null tại CNT_SOCIAL_CIRCLE (Số lần vi phạm của môi trường xã hội của khách hàng với 30 ngày trễ hạn (days past due))\n",
    "\n",
    "Đối với những giá trị Null tại cột này sẽ bỏ những dòng Null đi, bởi vì dữ liệu bị Null ít ( 1021 giá trị null ) và 1 phần vì cũng không phân tích được là nên thay bằng giá trị nào khác.\n",
    "\n",
    "# **Và loại bỏ các biến không cần thiết**"
   ]
  },
  {
   "cell_type": "code",
   "execution_count": null,
   "metadata": {
    "colab": {
     "base_uri": "https://localhost:8080/"
    },
    "executionInfo": {
     "elapsed": 1757,
     "status": "ok",
     "timestamp": 1716303435948,
     "user": {
      "displayName": "Ngọc Tâm",
      "userId": "16309649879546506017"
     },
     "user_tz": -420
    },
    "id": "55QlY3iZNtzD",
    "outputId": "0b67f609-5c44-4f7c-a354-72e231cba554"
   },
   "outputs": [
    {
     "name": "stdout",
     "output_type": "stream",
     "text": [
      "+------------------------+------+\n",
      "|DEF_30_CNT_SOCIAL_CIRCLE| count|\n",
      "+------------------------+------+\n",
      "|                     0.0|270489|\n",
      "|                     7.0|     1|\n",
      "|                    NULL|  1017|\n",
      "|                     1.0| 28250|\n",
      "|                    34.0|     1|\n",
      "|                     4.0|   252|\n",
      "|                     3.0|  1188|\n",
      "|                     2.0|  5308|\n",
      "|                     6.0|    11|\n",
      "|                     5.0|    56|\n",
      "|                     8.0|     1|\n",
      "+------------------------+------+\n",
      "\n"
     ]
    }
   ],
   "source": [
    "df.groupBy(\"DEF_30_CNT_SOCIAL_CIRCLE\").count().show()"
   ]
  },
  {
   "cell_type": "code",
   "execution_count": null,
   "metadata": {
    "id": "-EIbnIeJNto6"
   },
   "outputs": [],
   "source": [
    "df = df.na.drop(subset=[\"DEF_30_CNT_SOCIAL_CIRCLE\"])\n",
    "df = df.drop(\"OBS_30_CNT_SOCIAL_CIRCLE\", \"OBS_60_CNT_SOCIAL_CIRCLE\", \"DEF_60_CNT_SOCIAL_CIRCLE\", \"DAYS_BIRTH\", \"FLAG_MOBIL\",\n",
    "             \"FLAG_EMAIL\", \"REGION_RATING_CLIENT\", \"REG_REGION_NOT_LIVE_REGION\", \"REG_CITY_NOT_WORK_CITY\", \"DAYS_LAST_PHONE_CHANGE\")"
   ]
  },
  {
   "cell_type": "code",
   "execution_count": null,
   "metadata": {
    "colab": {
     "base_uri": "https://localhost:8080/"
    },
    "executionInfo": {
     "elapsed": 2788,
     "status": "ok",
     "timestamp": 1716303438734,
     "user": {
      "displayName": "Ngọc Tâm",
      "userId": "16309649879546506017"
     },
     "user_tz": -420
    },
    "id": "MuawOvLwYVGf",
    "outputId": "fd6fb691-294b-42c1-ec70-575a2366d790"
   },
   "outputs": [
    {
     "name": "stdout",
     "output_type": "stream",
     "text": [
      "Số dòng của train:  305557\n",
      "Số cột của train:  23\n"
     ]
    }
   ],
   "source": [
    "print(\"Số dòng của train: \", df.count())\n",
    "print(\"Số cột của train: \", len(df.columns))"
   ]
  },
  {
   "cell_type": "code",
   "execution_count": null,
   "metadata": {
    "id": "y7cur9vy4l3f"
   },
   "outputs": [],
   "source": [
    "# null_counts = df.select([sum(col(c).isNull().cast(\"int\")).alias(c) for c in df.columns])\n",
    "\n",
    "# Hiển thị kết quả\n",
    "# null_counts.show()\n",
    "\n",
    "# Chuyển kết quả thành DataFrame\n",
    "# null_counts_dict = null_counts.collect()[0].asDict()\n",
    "\n",
    "# Lọc các cột có giá trị null nhiều hơn 0\n",
    "# columns_with_nulls = {k: v for k, v in null_counts_dict.items() if v > 0}\n",
    "\n",
    "# Hiển thị kết quả\n",
    "# for column, count in columns_with_nulls.items():\n",
    "#    print(f\"Cột {column} có {count} giá trị null\")"
   ]
  },
  {
   "cell_type": "code",
   "execution_count": null,
   "metadata": {
    "colab": {
     "base_uri": "https://localhost:8080/"
    },
    "executionInfo": {
     "elapsed": 1097,
     "status": "ok",
     "timestamp": 1716303439830,
     "user": {
      "displayName": "Ngọc Tâm",
      "userId": "16309649879546506017"
     },
     "user_tz": -420
    },
    "id": "FdII1KImWY4q",
    "outputId": "83efa469-a1cb-4582-aaa4-fd60a4028013"
   },
   "outputs": [
    {
     "name": "stdout",
     "output_type": "stream",
     "text": [
      "+----------+------+------------------+------------+---------------+----------------+----------+-----------+---------------+--------------------+--------------------+-----------------+----------------+---------------------------+----------------------+-------------------+------------------------+--------------------------+-------------------------+--------------------------+-------------------------+-------------------------+--------------------------+\n",
      "|SK_ID_CURR|TARGET|NAME_CONTRACT_TYPE|FLAG_OWN_CAR|FLAG_OWN_REALTY|AMT_INCOME_TOTAL|AMT_CREDIT|AMT_ANNUITY|AMT_GOODS_PRICE|    NAME_INCOME_TYPE| NAME_EDUCATION_TYPE|NAME_HOUSING_TYPE|FLAG_CONT_MOBILE|REGION_RATING_CLIENT_W_CITY|REG_CITY_NOT_LIVE_CITY|       EXT_SOURCE_2|DEF_30_CNT_SOCIAL_CIRCLE|AMT_REQ_CREDIT_BUREAU_HOUR|AMT_REQ_CREDIT_BUREAU_DAY|AMT_REQ_CREDIT_BUREAU_WEEK|AMT_REQ_CREDIT_BUREAU_MON|AMT_REQ_CREDIT_BUREAU_QRT|AMT_REQ_CREDIT_BUREAU_YEAR|\n",
      "+----------+------+------------------+------------+---------------+----------------+----------+-----------+---------------+--------------------+--------------------+-----------------+----------------+---------------------------+----------------------+-------------------+------------------------+--------------------------+-------------------------+--------------------------+-------------------------+-------------------------+--------------------------+\n",
      "|    100002|     1|        Cash loans|           N|              Y|        202500.0|  406597.5|    24700.5|       351000.0|             Working|Secondary / secon...|House / apartment|               1|                          2|                     0| 0.2629485927471776|                     2.0|                       0.0|                      0.0|                       0.0|                      0.0|                      0.0|                       1.0|\n",
      "|    100003|     0|        Cash loans|           N|              N|        270000.0| 1293502.5|    35698.5|      1129500.0|       State servant|    Higher education|House / apartment|               1|                          1|                     0| 0.6222457752555098|                     0.0|                       0.0|                      0.0|                       0.0|                      0.0|                      0.0|                       0.0|\n",
      "|    100004|     0|   Revolving loans|           Y|              Y|         67500.0|  135000.0|     6750.0|       135000.0|             Working|Secondary / secon...|House / apartment|               1|                          2|                     0| 0.5559120833904428|                     0.0|                       0.0|                      0.0|                       0.0|                      0.0|                      0.0|                       0.0|\n",
      "|    100006|     0|        Cash loans|           N|              Y|        135000.0|  312682.5|    29686.5|       297000.0|             Working|Secondary / secon...|House / apartment|               1|                          2|                     0| 0.6504416904014653|                     0.0|                       0.0|                      0.0|                       0.0|                      0.0|                      0.0|                       0.0|\n",
      "|    100007|     0|        Cash loans|           N|              Y|        121500.0|  513000.0|    21865.5|       513000.0|             Working|Secondary / secon...|House / apartment|               1|                          2|                     0| 0.3227382869704046|                     0.0|                       0.0|                      0.0|                       0.0|                      0.0|                      0.0|                       0.0|\n",
      "|    100008|     0|        Cash loans|           N|              Y|         99000.0|  490495.5|    27517.5|       454500.0|       State servant|Secondary / secon...|House / apartment|               1|                          2|                     0| 0.3542247319929012|                     0.0|                       0.0|                      0.0|                       0.0|                      0.0|                      1.0|                       1.0|\n",
      "|    100009|     0|        Cash loans|           Y|              Y|        171000.0| 1560726.0|    41301.0|      1395000.0|Commercial associate|    Higher education|House / apartment|               1|                          2|                     0| 0.7239998516953141|                     0.0|                       0.0|                      0.0|                       0.0|                      1.0|                      1.0|                       2.0|\n",
      "|    100010|     0|        Cash loans|           Y|              Y|        360000.0| 1530000.0|    42075.0|      1530000.0|       State servant|    Higher education|House / apartment|               1|                          3|                     0| 0.7142792864482229|                     0.0|                       0.0|                      0.0|                       0.0|                      0.0|                      0.0|                       0.0|\n",
      "|    100011|     0|        Cash loans|           N|              Y|        112500.0| 1019610.0|    33826.5|       913500.0|           Pensioner|Secondary / secon...|House / apartment|               1|                          2|                     0|0.20574728800732814|                     0.0|                       0.0|                      0.0|                       0.0|                      0.0|                      0.0|                       1.0|\n",
      "|    100012|     0|   Revolving loans|           N|              Y|        135000.0|  405000.0|    20250.0|       405000.0|             Working|Secondary / secon...|House / apartment|               1|                          2|                     0| 0.7466436294590924|                     0.0|                       0.0|                      0.0|                       0.0|                      0.0|                      0.0|                       0.0|\n",
      "|    100014|     0|        Cash loans|           N|              Y|        112500.0|  652500.0|    21177.0|       652500.0|             Working|    Higher education|House / apartment|               1|                          2|                     0| 0.6518623334244781|                     0.0|                       0.0|                      0.0|                       0.0|                      1.0|                      0.0|                       0.0|\n",
      "|    100015|     0|        Cash loans|           N|              Y|       38419.155|  148365.0|    10678.5|       135000.0|           Pensioner|Secondary / secon...|House / apartment|               1|                          2|                     0| 0.5551831615131809|                     0.0|                       0.0|                      0.0|                       0.0|                      0.0|                      0.0|                       2.0|\n",
      "|    100016|     0|        Cash loans|           N|              Y|         67500.0|   80865.0|     5881.5|        67500.0|             Working|Secondary / secon...|House / apartment|               1|                          2|                     0| 0.7150418188660659|                     0.0|                       0.0|                      0.0|                       0.0|                      1.0|                      0.0|                       0.0|\n",
      "|    100017|     0|        Cash loans|           Y|              N|        225000.0|  918468.0|    28966.5|       697500.0|             Working|Secondary / secon...|House / apartment|               1|                          2|                     0| 0.5669066132460429|                     0.0|                       0.0|                      0.0|                       0.0|                      0.0|                      0.0|                       1.0|\n",
      "|    100018|     0|        Cash loans|           N|              Y|        189000.0|  773680.5|    32778.0|       679500.0|             Working|Secondary / secon...|House / apartment|               1|                          1|                     0| 0.6426562048311103|                     0.0|                       0.0|                      0.0|                       0.0|                      0.0|                      0.0|                       0.0|\n",
      "|    100019|     0|        Cash loans|           Y|              Y|        157500.0|  299772.0|    20160.0|       247500.0|             Working|Secondary / secon...| Rented apartment|               1|                          3|                     1|   0.34663398139668|                     0.0|                       0.0|                      0.0|                       0.0|                      0.0|                      0.0|                       1.0|\n",
      "|    100020|     0|        Cash loans|           N|              N|        108000.0|  509602.5|    26149.5|       387000.0|             Working|Secondary / secon...|House / apartment|               1|                          2|                     1| 0.2363778398884225|                     0.0|                       0.0|                      0.0|                       0.0|                      0.0|                      1.0|                       0.0|\n",
      "|    100021|     0|   Revolving loans|           N|              Y|         81000.0|  270000.0|    13500.0|       270000.0|             Working|Secondary / secon...|House / apartment|               1|                          2|                     1| 0.6835133461914255|                     0.0|                       0.0|                      0.0|                       0.0|                      0.0|                      0.0|                       0.0|\n",
      "|    100022|     0|   Revolving loans|           N|              Y|        112500.0|  157500.0|     7875.0|       157500.0|             Working|Secondary / secon...|House / apartment|               1|                          1|                     0| 0.7064284028871654|                     0.0|                       0.0|                      0.0|                       0.0|                      0.0|                      0.0|                       0.0|\n",
      "|    100023|     0|        Cash loans|           N|              Y|         90000.0|  544491.0|    17563.5|       454500.0|       State servant|    Higher education|House / apartment|               1|                          2|                     0| 0.5866171400119664|                     0.0|                       0.0|                      0.0|                       0.0|                      0.0|                      0.0|                       2.0|\n",
      "+----------+------+------------------+------------+---------------+----------------+----------+-----------+---------------+--------------------+--------------------+-----------------+----------------+---------------------------+----------------------+-------------------+------------------------+--------------------------+-------------------------+--------------------------+-------------------------+-------------------------+--------------------------+\n",
      "only showing top 20 rows\n",
      "\n"
     ]
    }
   ],
   "source": [
    "df.show()"
   ]
  },
  {
   "cell_type": "code",
   "execution_count": null,
   "metadata": {
    "colab": {
     "base_uri": "https://localhost:8080/"
    },
    "executionInfo": {
     "elapsed": 2591,
     "status": "ok",
     "timestamp": 1716303442419,
     "user": {
      "displayName": "Ngọc Tâm",
      "userId": "16309649879546506017"
     },
     "user_tz": -420
    },
    "id": "mOL0ok6fb7ew",
    "outputId": "ad33e980-4c05-4b45-ccbf-ed662ac792e3"
   },
   "outputs": [
    {
     "name": "stdout",
     "output_type": "stream",
     "text": [
      "+------+------+\n",
      "|TARGET| count|\n",
      "+------+------+\n",
      "|     1| 24716|\n",
      "|     0|280841|\n",
      "+------+------+\n",
      "\n"
     ]
    }
   ],
   "source": [
    "df.groupBy(\"TARGET\").count().show()"
   ]
  },
  {
   "cell_type": "code",
   "execution_count": null,
   "metadata": {
    "colab": {
     "base_uri": "https://localhost:8080/"
    },
    "executionInfo": {
     "elapsed": 18788,
     "status": "ok",
     "timestamp": 1716303461205,
     "user": {
      "displayName": "Ngọc Tâm",
      "userId": "16309649879546506017"
     },
     "user_tz": -420
    },
    "id": "-zWTVmhAbveT",
    "outputId": "937fe0e0-2bb0-49fe-a77e-25639c198d4a"
   },
   "outputs": [
    {
     "name": "stdout",
     "output_type": "stream",
     "text": [
      "+-------+------------------+-------------------+------------------+------------+---------------+------------------+-----------------+-----------------+-----------------+----------------+--------------------+-----------------+--------------------+---------------------------+----------------------+--------------------+------------------------+--------------------------+-------------------------+--------------------------+-------------------------+-------------------------+--------------------------+\n",
      "|summary|        SK_ID_CURR|             TARGET|NAME_CONTRACT_TYPE|FLAG_OWN_CAR|FLAG_OWN_REALTY|  AMT_INCOME_TOTAL|       AMT_CREDIT|      AMT_ANNUITY|  AMT_GOODS_PRICE|NAME_INCOME_TYPE| NAME_EDUCATION_TYPE|NAME_HOUSING_TYPE|    FLAG_CONT_MOBILE|REGION_RATING_CLIENT_W_CITY|REG_CITY_NOT_LIVE_CITY|        EXT_SOURCE_2|DEF_30_CNT_SOCIAL_CIRCLE|AMT_REQ_CREDIT_BUREAU_HOUR|AMT_REQ_CREDIT_BUREAU_DAY|AMT_REQ_CREDIT_BUREAU_WEEK|AMT_REQ_CREDIT_BUREAU_MON|AMT_REQ_CREDIT_BUREAU_QRT|AMT_REQ_CREDIT_BUREAU_YEAR|\n",
      "+-------+------------------+-------------------+------------------+------------+---------------+------------------+-----------------+-----------------+-----------------+----------------+--------------------+-----------------+--------------------+---------------------------+----------------------+--------------------+------------------------+--------------------------+-------------------------+--------------------------+-------------------------+-------------------------+--------------------------+\n",
      "|  count|            305557|             305557|            305557|      305557|         305557|            305557|           305557|           305557|           305557|          305557|              305557|           305557|              305557|                     305557|                305557|              305557|                  305557|                    305557|                   305557|                    305557|                   305557|                   305557|                    305557|\n",
      "|   mean| 278175.9454046217|0.08088834489146052|              NULL|        NULL|           NULL|168714.85867443722|600076.1577643451| 27143.5493328577|538944.2119048164|            NULL|                NULL|             NULL|   0.998147645120223|         2.0321282117575445|   0.07821781206125207|  0.5142635756380132|       0.143452776405057|      0.005537428368520...|     0.006061062256796604|      0.029784950107508583|      0.23162617776715966|      0.23011745762656394|        1.6459449464420715|\n",
      "| stddev|102783.77445694899|0.27266401277783875|              NULL|        NULL|           NULL|237583.65111129015|402703.5925865823|14482.13638900829|369580.7714875089|            NULL|                NULL|             NULL|0.042999182692120975|         0.5026198149694785|    0.2685144724222413| 0.19110389975070274|     0.44674438969640295|       0.07803414563450024|        0.102986198174452|       0.19066505529949693|       0.8569166668282419|        0.745180751369662|         1.856431218266579|\n",
      "|    min|            100002|                  0|        Cash loans|           N|              N|           25650.0|          45000.0|              0.0|          40500.0|     Businessman|     Academic degree|  Co-op apartment|                   0|                          1|                     0|8.173616518884397E-8|                     0.0|                       0.0|                      0.0|                       0.0|                      0.0|                      0.0|                       0.0|\n",
      "|    max|            456255|                  1|   Revolving loans|           Y|              Y|            1.17E8|        4050000.0|         258025.5|        4050000.0|         Working|Secondary / secon...|     With parents|                   1|                          3|                     1|  0.8549996664047012|                    34.0|                       4.0|                      9.0|                       8.0|                     27.0|                    261.0|                      25.0|\n",
      "+-------+------------------+-------------------+------------------+------------+---------------+------------------+-----------------+-----------------+-----------------+----------------+--------------------+-----------------+--------------------+---------------------------+----------------------+--------------------+------------------------+--------------------------+-------------------------+--------------------------+-------------------------+-------------------------+--------------------------+\n",
      "\n"
     ]
    }
   ],
   "source": [
    "df.describe().show()"
   ]
  },
  {
   "cell_type": "markdown",
   "metadata": {
    "id": "_cQ_WmqhdTjt"
   },
   "source": [
    "Chuyển đổi kiểu, mã hóa cho các biến để đưa vào mô hình"
   ]
  },
  {
   "cell_type": "code",
   "execution_count": null,
   "metadata": {
    "colab": {
     "base_uri": "https://localhost:8080/"
    },
    "executionInfo": {
     "elapsed": 6,
     "status": "ok",
     "timestamp": 1716303461205,
     "user": {
      "displayName": "Ngọc Tâm",
      "userId": "16309649879546506017"
     },
     "user_tz": -420
    },
    "id": "2ux_yo_Qbxji",
    "outputId": "68e00f0b-5d23-4bdd-e50d-0c78e772c403"
   },
   "outputs": [
    {
     "data": {
      "text/plain": [
       "[('SK_ID_CURR', 'int'),\n",
       " ('TARGET', 'int'),\n",
       " ('NAME_CONTRACT_TYPE', 'string'),\n",
       " ('FLAG_OWN_CAR', 'string'),\n",
       " ('FLAG_OWN_REALTY', 'string'),\n",
       " ('AMT_INCOME_TOTAL', 'double'),\n",
       " ('AMT_CREDIT', 'double'),\n",
       " ('AMT_ANNUITY', 'double'),\n",
       " ('AMT_GOODS_PRICE', 'double'),\n",
       " ('NAME_INCOME_TYPE', 'string'),\n",
       " ('NAME_EDUCATION_TYPE', 'string'),\n",
       " ('NAME_HOUSING_TYPE', 'string'),\n",
       " ('FLAG_CONT_MOBILE', 'int'),\n",
       " ('REGION_RATING_CLIENT_W_CITY', 'int'),\n",
       " ('REG_CITY_NOT_LIVE_CITY', 'int'),\n",
       " ('EXT_SOURCE_2', 'double'),\n",
       " ('DEF_30_CNT_SOCIAL_CIRCLE', 'double'),\n",
       " ('AMT_REQ_CREDIT_BUREAU_HOUR', 'double'),\n",
       " ('AMT_REQ_CREDIT_BUREAU_DAY', 'double'),\n",
       " ('AMT_REQ_CREDIT_BUREAU_WEEK', 'double'),\n",
       " ('AMT_REQ_CREDIT_BUREAU_MON', 'double'),\n",
       " ('AMT_REQ_CREDIT_BUREAU_QRT', 'double'),\n",
       " ('AMT_REQ_CREDIT_BUREAU_YEAR', 'double')]"
      ]
     },
     "execution_count": 29,
     "metadata": {},
     "output_type": "execute_result"
    }
   ],
   "source": [
    "df.dtypes"
   ]
  },
  {
   "cell_type": "code",
   "execution_count": null,
   "metadata": {
    "colab": {
     "base_uri": "https://localhost:8080/"
    },
    "executionInfo": {
     "elapsed": 2342,
     "status": "ok",
     "timestamp": 1716303463545,
     "user": {
      "displayName": "Ngọc Tâm",
      "userId": "16309649879546506017"
     },
     "user_tz": -420
    },
    "id": "r2-YRDsAdOZ7",
    "outputId": "45accdcd-419d-4139-885e-e2422080cfe7"
   },
   "outputs": [
    {
     "name": "stdout",
     "output_type": "stream",
     "text": [
      "+------------------+------+\n",
      "|NAME_CONTRACT_TYPE| count|\n",
      "+------------------+------+\n",
      "|   Revolving loans| 27925|\n",
      "|        Cash loans|277632|\n",
      "+------------------+------+\n",
      "\n"
     ]
    }
   ],
   "source": [
    "df.groupBy(\"NAME_CONTRACT_TYPE\").count().show()"
   ]
  },
  {
   "cell_type": "code",
   "execution_count": null,
   "metadata": {
    "id": "Z2L7Yo4bdg_T"
   },
   "outputs": [],
   "source": [
    "# Chuyển \"Revolving loans\" thành 0 và \"Cash loan\" thành 1\n",
    "df = df.withColumn(\"NAME_CONTRACT_TYPE\", when(df[\"NAME_CONTRACT_TYPE\"] == \"Revolving loans\", 0).otherwise(1))\n"
   ]
  },
  {
   "cell_type": "code",
   "execution_count": null,
   "metadata": {
    "colab": {
     "base_uri": "https://localhost:8080/"
    },
    "executionInfo": {
     "elapsed": 1924,
     "status": "ok",
     "timestamp": 1716303465468,
     "user": {
      "displayName": "Ngọc Tâm",
      "userId": "16309649879546506017"
     },
     "user_tz": -420
    },
    "id": "-J_gITVgh8YU",
    "outputId": "f0541a95-043e-4f59-c6a2-fc6a7c90d950"
   },
   "outputs": [
    {
     "name": "stdout",
     "output_type": "stream",
     "text": [
      "+------------+------+\n",
      "|FLAG_OWN_CAR| count|\n",
      "+------------+------+\n",
      "|           Y|104038|\n",
      "|           N|201519|\n",
      "+------------+------+\n",
      "\n"
     ]
    }
   ],
   "source": [
    "df.groupBy(\"FLAG_OWN_CAR\").count().show()"
   ]
  },
  {
   "cell_type": "code",
   "execution_count": null,
   "metadata": {
    "id": "myF7rBn4iDAU"
   },
   "outputs": [],
   "source": [
    "# Chuyển N thành 0 và Y thành 1\n",
    "df = df.withColumn(\"FLAG_OWN_CAR\", when(df[\"FLAG_OWN_CAR\"] == \"Y\", 1).otherwise(0))"
   ]
  },
  {
   "cell_type": "code",
   "execution_count": null,
   "metadata": {
    "colab": {
     "base_uri": "https://localhost:8080/"
    },
    "executionInfo": {
     "elapsed": 2885,
     "status": "ok",
     "timestamp": 1716303468351,
     "user": {
      "displayName": "Ngọc Tâm",
      "userId": "16309649879546506017"
     },
     "user_tz": -420
    },
    "id": "dB0ir8xdiuzT",
    "outputId": "68d77db3-b8d1-44a8-974c-57571f615c48"
   },
   "outputs": [
    {
     "name": "stdout",
     "output_type": "stream",
     "text": [
      "+---------------+------+\n",
      "|FLAG_OWN_REALTY| count|\n",
      "+---------------+------+\n",
      "|              Y|211887|\n",
      "|              N| 93670|\n",
      "+---------------+------+\n",
      "\n"
     ]
    }
   ],
   "source": [
    "df.groupBy(\"FLAG_OWN_REALTY\").count().show()"
   ]
  },
  {
   "cell_type": "code",
   "execution_count": null,
   "metadata": {
    "id": "fhmJbkb1i0k7"
   },
   "outputs": [],
   "source": [
    "# Chuyển N thành 0 và Y thành 1\n",
    "df = df.withColumn(\"FLAG_OWN_REALTY\", when(df[\"FLAG_OWN_REALTY\"] == \"Y\", 1).otherwise(0))"
   ]
  },
  {
   "cell_type": "code",
   "execution_count": null,
   "metadata": {
    "colab": {
     "base_uri": "https://localhost:8080/"
    },
    "executionInfo": {
     "elapsed": 779,
     "status": "ok",
     "timestamp": 1716303469119,
     "user": {
      "displayName": "Ngọc Tâm",
      "userId": "16309649879546506017"
     },
     "user_tz": -420
    },
    "id": "X0EL-R5BtQDW",
    "outputId": "a28eaf5b-d0f5-4a35-e120-ba3cacc44328"
   },
   "outputs": [
    {
     "name": "stdout",
     "output_type": "stream",
     "text": [
      "+----------+------+------------------+------------+---------------+----------------+----------+-----------+---------------+--------------------+--------------------+-----------------+----------------+---------------------------+----------------------+-------------------+------------------------+--------------------------+-------------------------+--------------------------+-------------------------+-------------------------+--------------------------+\n",
      "|SK_ID_CURR|TARGET|NAME_CONTRACT_TYPE|FLAG_OWN_CAR|FLAG_OWN_REALTY|AMT_INCOME_TOTAL|AMT_CREDIT|AMT_ANNUITY|AMT_GOODS_PRICE|    NAME_INCOME_TYPE| NAME_EDUCATION_TYPE|NAME_HOUSING_TYPE|FLAG_CONT_MOBILE|REGION_RATING_CLIENT_W_CITY|REG_CITY_NOT_LIVE_CITY|       EXT_SOURCE_2|DEF_30_CNT_SOCIAL_CIRCLE|AMT_REQ_CREDIT_BUREAU_HOUR|AMT_REQ_CREDIT_BUREAU_DAY|AMT_REQ_CREDIT_BUREAU_WEEK|AMT_REQ_CREDIT_BUREAU_MON|AMT_REQ_CREDIT_BUREAU_QRT|AMT_REQ_CREDIT_BUREAU_YEAR|\n",
      "+----------+------+------------------+------------+---------------+----------------+----------+-----------+---------------+--------------------+--------------------+-----------------+----------------+---------------------------+----------------------+-------------------+------------------------+--------------------------+-------------------------+--------------------------+-------------------------+-------------------------+--------------------------+\n",
      "|    100002|     1|                 1|           0|              1|        202500.0|  406597.5|    24700.5|       351000.0|             Working|Secondary / secon...|House / apartment|               1|                          2|                     0| 0.2629485927471776|                     2.0|                       0.0|                      0.0|                       0.0|                      0.0|                      0.0|                       1.0|\n",
      "|    100003|     0|                 1|           0|              0|        270000.0| 1293502.5|    35698.5|      1129500.0|       State servant|    Higher education|House / apartment|               1|                          1|                     0| 0.6222457752555098|                     0.0|                       0.0|                      0.0|                       0.0|                      0.0|                      0.0|                       0.0|\n",
      "|    100004|     0|                 0|           1|              1|         67500.0|  135000.0|     6750.0|       135000.0|             Working|Secondary / secon...|House / apartment|               1|                          2|                     0| 0.5559120833904428|                     0.0|                       0.0|                      0.0|                       0.0|                      0.0|                      0.0|                       0.0|\n",
      "|    100006|     0|                 1|           0|              1|        135000.0|  312682.5|    29686.5|       297000.0|             Working|Secondary / secon...|House / apartment|               1|                          2|                     0| 0.6504416904014653|                     0.0|                       0.0|                      0.0|                       0.0|                      0.0|                      0.0|                       0.0|\n",
      "|    100007|     0|                 1|           0|              1|        121500.0|  513000.0|    21865.5|       513000.0|             Working|Secondary / secon...|House / apartment|               1|                          2|                     0| 0.3227382869704046|                     0.0|                       0.0|                      0.0|                       0.0|                      0.0|                      0.0|                       0.0|\n",
      "|    100008|     0|                 1|           0|              1|         99000.0|  490495.5|    27517.5|       454500.0|       State servant|Secondary / secon...|House / apartment|               1|                          2|                     0| 0.3542247319929012|                     0.0|                       0.0|                      0.0|                       0.0|                      0.0|                      1.0|                       1.0|\n",
      "|    100009|     0|                 1|           1|              1|        171000.0| 1560726.0|    41301.0|      1395000.0|Commercial associate|    Higher education|House / apartment|               1|                          2|                     0| 0.7239998516953141|                     0.0|                       0.0|                      0.0|                       0.0|                      1.0|                      1.0|                       2.0|\n",
      "|    100010|     0|                 1|           1|              1|        360000.0| 1530000.0|    42075.0|      1530000.0|       State servant|    Higher education|House / apartment|               1|                          3|                     0| 0.7142792864482229|                     0.0|                       0.0|                      0.0|                       0.0|                      0.0|                      0.0|                       0.0|\n",
      "|    100011|     0|                 1|           0|              1|        112500.0| 1019610.0|    33826.5|       913500.0|           Pensioner|Secondary / secon...|House / apartment|               1|                          2|                     0|0.20574728800732814|                     0.0|                       0.0|                      0.0|                       0.0|                      0.0|                      0.0|                       1.0|\n",
      "|    100012|     0|                 0|           0|              1|        135000.0|  405000.0|    20250.0|       405000.0|             Working|Secondary / secon...|House / apartment|               1|                          2|                     0| 0.7466436294590924|                     0.0|                       0.0|                      0.0|                       0.0|                      0.0|                      0.0|                       0.0|\n",
      "|    100014|     0|                 1|           0|              1|        112500.0|  652500.0|    21177.0|       652500.0|             Working|    Higher education|House / apartment|               1|                          2|                     0| 0.6518623334244781|                     0.0|                       0.0|                      0.0|                       0.0|                      1.0|                      0.0|                       0.0|\n",
      "|    100015|     0|                 1|           0|              1|       38419.155|  148365.0|    10678.5|       135000.0|           Pensioner|Secondary / secon...|House / apartment|               1|                          2|                     0| 0.5551831615131809|                     0.0|                       0.0|                      0.0|                       0.0|                      0.0|                      0.0|                       2.0|\n",
      "|    100016|     0|                 1|           0|              1|         67500.0|   80865.0|     5881.5|        67500.0|             Working|Secondary / secon...|House / apartment|               1|                          2|                     0| 0.7150418188660659|                     0.0|                       0.0|                      0.0|                       0.0|                      1.0|                      0.0|                       0.0|\n",
      "|    100017|     0|                 1|           1|              0|        225000.0|  918468.0|    28966.5|       697500.0|             Working|Secondary / secon...|House / apartment|               1|                          2|                     0| 0.5669066132460429|                     0.0|                       0.0|                      0.0|                       0.0|                      0.0|                      0.0|                       1.0|\n",
      "|    100018|     0|                 1|           0|              1|        189000.0|  773680.5|    32778.0|       679500.0|             Working|Secondary / secon...|House / apartment|               1|                          1|                     0| 0.6426562048311103|                     0.0|                       0.0|                      0.0|                       0.0|                      0.0|                      0.0|                       0.0|\n",
      "|    100019|     0|                 1|           1|              1|        157500.0|  299772.0|    20160.0|       247500.0|             Working|Secondary / secon...| Rented apartment|               1|                          3|                     1|   0.34663398139668|                     0.0|                       0.0|                      0.0|                       0.0|                      0.0|                      0.0|                       1.0|\n",
      "|    100020|     0|                 1|           0|              0|        108000.0|  509602.5|    26149.5|       387000.0|             Working|Secondary / secon...|House / apartment|               1|                          2|                     1| 0.2363778398884225|                     0.0|                       0.0|                      0.0|                       0.0|                      0.0|                      1.0|                       0.0|\n",
      "|    100021|     0|                 0|           0|              1|         81000.0|  270000.0|    13500.0|       270000.0|             Working|Secondary / secon...|House / apartment|               1|                          2|                     1| 0.6835133461914255|                     0.0|                       0.0|                      0.0|                       0.0|                      0.0|                      0.0|                       0.0|\n",
      "|    100022|     0|                 0|           0|              1|        112500.0|  157500.0|     7875.0|       157500.0|             Working|Secondary / secon...|House / apartment|               1|                          1|                     0| 0.7064284028871654|                     0.0|                       0.0|                      0.0|                       0.0|                      0.0|                      0.0|                       0.0|\n",
      "|    100023|     0|                 1|           0|              1|         90000.0|  544491.0|    17563.5|       454500.0|       State servant|    Higher education|House / apartment|               1|                          2|                     0| 0.5866171400119664|                     0.0|                       0.0|                      0.0|                       0.0|                      0.0|                      0.0|                       2.0|\n",
      "+----------+------+------------------+------------+---------------+----------------+----------+-----------+---------------+--------------------+--------------------+-----------------+----------------+---------------------------+----------------------+-------------------+------------------------+--------------------------+-------------------------+--------------------------+-------------------------+-------------------------+--------------------------+\n",
      "only showing top 20 rows\n",
      "\n"
     ]
    }
   ],
   "source": [
    "df.show()"
   ]
  },
  {
   "cell_type": "code",
   "execution_count": null,
   "metadata": {
    "id": "jQkFqmxMjL07"
   },
   "outputs": [],
   "source": [
    "# Tại cột \"NAME_INCOME_TYPE\", e sẽ sắp xếp chúng theo bảng chữ cái, rồi gán giá trị từ 0,1\n",
    "income_type_mapping = {\n",
    "    \"Businessman\": 0,\n",
    "    \"Commercial associate\": 1,\n",
    "    \"Maternity leave\": 2,\n",
    "    \"Pensioner\": 3,\n",
    "    \"State servant\": 4,\n",
    "    \"Student\": 5,\n",
    "    \"Unemployed\": 6,\n",
    "    \"Working\": 7\n",
    "}\n",
    "df = df.withColumn(\"Income_Type_Index\",\n",
    "                   when(df[\"NAME_INCOME_TYPE\"] == \"Businessman\", 0)\n",
    "                   .when(df[\"NAME_INCOME_TYPE\"] == \"Commercial associate\", 1)\n",
    "                   .when(df[\"NAME_INCOME_TYPE\"] == \"Maternity leave\", 2)\n",
    "                   .when(df[\"NAME_INCOME_TYPE\"] == \"Pensioner\", 3)\n",
    "                   .when(df[\"NAME_INCOME_TYPE\"] == \"State servant\", 4)\n",
    "                   .when(df[\"NAME_INCOME_TYPE\"] == \"Student\", 5)\n",
    "                   .when(df[\"NAME_INCOME_TYPE\"] == \"Unemployed\", 6)\n",
    "                   .when(df[\"NAME_INCOME_TYPE\"] == \"Working\", 7)\n",
    "                   .otherwise(None))\n",
    "df = df.drop(\"NAME_INCOME_TYPE\")"
   ]
  },
  {
   "cell_type": "code",
   "execution_count": null,
   "metadata": {
    "colab": {
     "base_uri": "https://localhost:8080/"
    },
    "executionInfo": {
     "elapsed": 759,
     "status": "ok",
     "timestamp": 1716303470361,
     "user": {
      "displayName": "Ngọc Tâm",
      "userId": "16309649879546506017"
     },
     "user_tz": -420
    },
    "id": "BhPTnAh4kL7j",
    "outputId": "c9cf895a-eec8-4cf0-8cd4-789337e5ea01"
   },
   "outputs": [
    {
     "name": "stdout",
     "output_type": "stream",
     "text": [
      "+----------+------+------------------+------------+---------------+----------------+----------+-----------+---------------+--------------------+-----------------+----------------+---------------------------+----------------------+-------------------+------------------------+--------------------------+-------------------------+--------------------------+-------------------------+-------------------------+--------------------------+-----------------+\n",
      "|SK_ID_CURR|TARGET|NAME_CONTRACT_TYPE|FLAG_OWN_CAR|FLAG_OWN_REALTY|AMT_INCOME_TOTAL|AMT_CREDIT|AMT_ANNUITY|AMT_GOODS_PRICE| NAME_EDUCATION_TYPE|NAME_HOUSING_TYPE|FLAG_CONT_MOBILE|REGION_RATING_CLIENT_W_CITY|REG_CITY_NOT_LIVE_CITY|       EXT_SOURCE_2|DEF_30_CNT_SOCIAL_CIRCLE|AMT_REQ_CREDIT_BUREAU_HOUR|AMT_REQ_CREDIT_BUREAU_DAY|AMT_REQ_CREDIT_BUREAU_WEEK|AMT_REQ_CREDIT_BUREAU_MON|AMT_REQ_CREDIT_BUREAU_QRT|AMT_REQ_CREDIT_BUREAU_YEAR|Income_Type_Index|\n",
      "+----------+------+------------------+------------+---------------+----------------+----------+-----------+---------------+--------------------+-----------------+----------------+---------------------------+----------------------+-------------------+------------------------+--------------------------+-------------------------+--------------------------+-------------------------+-------------------------+--------------------------+-----------------+\n",
      "|    100002|     1|                 1|           0|              1|        202500.0|  406597.5|    24700.5|       351000.0|Secondary / secon...|House / apartment|               1|                          2|                     0| 0.2629485927471776|                     2.0|                       0.0|                      0.0|                       0.0|                      0.0|                      0.0|                       1.0|                7|\n",
      "|    100003|     0|                 1|           0|              0|        270000.0| 1293502.5|    35698.5|      1129500.0|    Higher education|House / apartment|               1|                          1|                     0| 0.6222457752555098|                     0.0|                       0.0|                      0.0|                       0.0|                      0.0|                      0.0|                       0.0|                4|\n",
      "|    100004|     0|                 0|           1|              1|         67500.0|  135000.0|     6750.0|       135000.0|Secondary / secon...|House / apartment|               1|                          2|                     0| 0.5559120833904428|                     0.0|                       0.0|                      0.0|                       0.0|                      0.0|                      0.0|                       0.0|                7|\n",
      "|    100006|     0|                 1|           0|              1|        135000.0|  312682.5|    29686.5|       297000.0|Secondary / secon...|House / apartment|               1|                          2|                     0| 0.6504416904014653|                     0.0|                       0.0|                      0.0|                       0.0|                      0.0|                      0.0|                       0.0|                7|\n",
      "|    100007|     0|                 1|           0|              1|        121500.0|  513000.0|    21865.5|       513000.0|Secondary / secon...|House / apartment|               1|                          2|                     0| 0.3227382869704046|                     0.0|                       0.0|                      0.0|                       0.0|                      0.0|                      0.0|                       0.0|                7|\n",
      "|    100008|     0|                 1|           0|              1|         99000.0|  490495.5|    27517.5|       454500.0|Secondary / secon...|House / apartment|               1|                          2|                     0| 0.3542247319929012|                     0.0|                       0.0|                      0.0|                       0.0|                      0.0|                      1.0|                       1.0|                4|\n",
      "|    100009|     0|                 1|           1|              1|        171000.0| 1560726.0|    41301.0|      1395000.0|    Higher education|House / apartment|               1|                          2|                     0| 0.7239998516953141|                     0.0|                       0.0|                      0.0|                       0.0|                      1.0|                      1.0|                       2.0|                1|\n",
      "|    100010|     0|                 1|           1|              1|        360000.0| 1530000.0|    42075.0|      1530000.0|    Higher education|House / apartment|               1|                          3|                     0| 0.7142792864482229|                     0.0|                       0.0|                      0.0|                       0.0|                      0.0|                      0.0|                       0.0|                4|\n",
      "|    100011|     0|                 1|           0|              1|        112500.0| 1019610.0|    33826.5|       913500.0|Secondary / secon...|House / apartment|               1|                          2|                     0|0.20574728800732814|                     0.0|                       0.0|                      0.0|                       0.0|                      0.0|                      0.0|                       1.0|                3|\n",
      "|    100012|     0|                 0|           0|              1|        135000.0|  405000.0|    20250.0|       405000.0|Secondary / secon...|House / apartment|               1|                          2|                     0| 0.7466436294590924|                     0.0|                       0.0|                      0.0|                       0.0|                      0.0|                      0.0|                       0.0|                7|\n",
      "|    100014|     0|                 1|           0|              1|        112500.0|  652500.0|    21177.0|       652500.0|    Higher education|House / apartment|               1|                          2|                     0| 0.6518623334244781|                     0.0|                       0.0|                      0.0|                       0.0|                      1.0|                      0.0|                       0.0|                7|\n",
      "|    100015|     0|                 1|           0|              1|       38419.155|  148365.0|    10678.5|       135000.0|Secondary / secon...|House / apartment|               1|                          2|                     0| 0.5551831615131809|                     0.0|                       0.0|                      0.0|                       0.0|                      0.0|                      0.0|                       2.0|                3|\n",
      "|    100016|     0|                 1|           0|              1|         67500.0|   80865.0|     5881.5|        67500.0|Secondary / secon...|House / apartment|               1|                          2|                     0| 0.7150418188660659|                     0.0|                       0.0|                      0.0|                       0.0|                      1.0|                      0.0|                       0.0|                7|\n",
      "|    100017|     0|                 1|           1|              0|        225000.0|  918468.0|    28966.5|       697500.0|Secondary / secon...|House / apartment|               1|                          2|                     0| 0.5669066132460429|                     0.0|                       0.0|                      0.0|                       0.0|                      0.0|                      0.0|                       1.0|                7|\n",
      "|    100018|     0|                 1|           0|              1|        189000.0|  773680.5|    32778.0|       679500.0|Secondary / secon...|House / apartment|               1|                          1|                     0| 0.6426562048311103|                     0.0|                       0.0|                      0.0|                       0.0|                      0.0|                      0.0|                       0.0|                7|\n",
      "|    100019|     0|                 1|           1|              1|        157500.0|  299772.0|    20160.0|       247500.0|Secondary / secon...| Rented apartment|               1|                          3|                     1|   0.34663398139668|                     0.0|                       0.0|                      0.0|                       0.0|                      0.0|                      0.0|                       1.0|                7|\n",
      "|    100020|     0|                 1|           0|              0|        108000.0|  509602.5|    26149.5|       387000.0|Secondary / secon...|House / apartment|               1|                          2|                     1| 0.2363778398884225|                     0.0|                       0.0|                      0.0|                       0.0|                      0.0|                      1.0|                       0.0|                7|\n",
      "|    100021|     0|                 0|           0|              1|         81000.0|  270000.0|    13500.0|       270000.0|Secondary / secon...|House / apartment|               1|                          2|                     1| 0.6835133461914255|                     0.0|                       0.0|                      0.0|                       0.0|                      0.0|                      0.0|                       0.0|                7|\n",
      "|    100022|     0|                 0|           0|              1|        112500.0|  157500.0|     7875.0|       157500.0|Secondary / secon...|House / apartment|               1|                          1|                     0| 0.7064284028871654|                     0.0|                       0.0|                      0.0|                       0.0|                      0.0|                      0.0|                       0.0|                7|\n",
      "|    100023|     0|                 1|           0|              1|         90000.0|  544491.0|    17563.5|       454500.0|    Higher education|House / apartment|               1|                          2|                     0| 0.5866171400119664|                     0.0|                       0.0|                      0.0|                       0.0|                      0.0|                      0.0|                       2.0|                4|\n",
      "+----------+------+------------------+------------+---------------+----------------+----------+-----------+---------------+--------------------+-----------------+----------------+---------------------------+----------------------+-------------------+------------------------+--------------------------+-------------------------+--------------------------+-------------------------+-------------------------+--------------------------+-----------------+\n",
      "only showing top 20 rows\n",
      "\n"
     ]
    }
   ],
   "source": [
    "df.show()"
   ]
  },
  {
   "cell_type": "code",
   "execution_count": null,
   "metadata": {
    "colab": {
     "base_uri": "https://localhost:8080/"
    },
    "collapsed": true,
    "executionInfo": {
     "elapsed": 1955,
     "status": "ok",
     "timestamp": 1716303472311,
     "user": {
      "displayName": "Ngọc Tâm",
      "userId": "16309649879546506017"
     },
     "user_tz": -420
    },
    "id": "d15Rlhrakb5z",
    "outputId": "d25ddd16-9b37-4aa6-8ab0-766c63be9773"
   },
   "outputs": [
    {
     "name": "stdout",
     "output_type": "stream",
     "text": [
      "+--------------------+------+\n",
      "| NAME_EDUCATION_TYPE| count|\n",
      "+--------------------+------+\n",
      "|     Academic degree|   164|\n",
      "|   Incomplete higher| 10201|\n",
      "|Secondary / secon...|217192|\n",
      "|     Lower secondary|  3794|\n",
      "|    Higher education| 74206|\n",
      "+--------------------+------+\n",
      "\n"
     ]
    }
   ],
   "source": [
    "df.groupBy(\"NAME_EDUCATION_TYPE\").count().show()"
   ]
  },
  {
   "cell_type": "code",
   "execution_count": null,
   "metadata": {
    "id": "bnpPmVuqmx7L"
   },
   "outputs": [],
   "source": [
    "# Sắp xếp theo cấp bậc học vấn, từ thấp đến cao\n",
    "df = df.withColumn(\"NAME_EDUCATION_TYPE_INDEX\",\n",
    "                   when(df[\"NAME_EDUCATION_TYPE\"] == \"Lower secondary\", 0)\n",
    "                   .when(df[\"NAME_EDUCATION_TYPE\"] == \"Secondary / secondary special\", 1)\n",
    "                   .when(df[\"NAME_EDUCATION_TYPE\"] == \"Incomplete higher\", 2)\n",
    "                   .when(df[\"NAME_EDUCATION_TYPE\"] == \"Higher education\", 3)\n",
    "                   .when(df[\"NAME_EDUCATION_TYPE\"] == \"Academic degree\", 4)\n",
    "                   .otherwise(None))\n",
    "df = df.drop(\"NAME_EDUCATION_TYPE\")"
   ]
  },
  {
   "cell_type": "code",
   "execution_count": null,
   "metadata": {
    "colab": {
     "base_uri": "https://localhost:8080/"
    },
    "executionInfo": {
     "elapsed": 487,
     "status": "ok",
     "timestamp": 1716303472797,
     "user": {
      "displayName": "Ngọc Tâm",
      "userId": "16309649879546506017"
     },
     "user_tz": -420
    },
    "id": "KnX_IflkqQCz",
    "outputId": "3f03d89c-094c-4195-cf9d-4b41c82d9748"
   },
   "outputs": [
    {
     "name": "stdout",
     "output_type": "stream",
     "text": [
      "+----------+------+------------------+------------+---------------+----------------+----------+-----------+---------------+-----------------+----------------+---------------------------+----------------------+-------------------+------------------------+--------------------------+-------------------------+--------------------------+-------------------------+-------------------------+--------------------------+-----------------+-------------------------+\n",
      "|SK_ID_CURR|TARGET|NAME_CONTRACT_TYPE|FLAG_OWN_CAR|FLAG_OWN_REALTY|AMT_INCOME_TOTAL|AMT_CREDIT|AMT_ANNUITY|AMT_GOODS_PRICE|NAME_HOUSING_TYPE|FLAG_CONT_MOBILE|REGION_RATING_CLIENT_W_CITY|REG_CITY_NOT_LIVE_CITY|       EXT_SOURCE_2|DEF_30_CNT_SOCIAL_CIRCLE|AMT_REQ_CREDIT_BUREAU_HOUR|AMT_REQ_CREDIT_BUREAU_DAY|AMT_REQ_CREDIT_BUREAU_WEEK|AMT_REQ_CREDIT_BUREAU_MON|AMT_REQ_CREDIT_BUREAU_QRT|AMT_REQ_CREDIT_BUREAU_YEAR|Income_Type_Index|NAME_EDUCATION_TYPE_INDEX|\n",
      "+----------+------+------------------+------------+---------------+----------------+----------+-----------+---------------+-----------------+----------------+---------------------------+----------------------+-------------------+------------------------+--------------------------+-------------------------+--------------------------+-------------------------+-------------------------+--------------------------+-----------------+-------------------------+\n",
      "|    100002|     1|                 1|           0|              1|        202500.0|  406597.5|    24700.5|       351000.0|House / apartment|               1|                          2|                     0| 0.2629485927471776|                     2.0|                       0.0|                      0.0|                       0.0|                      0.0|                      0.0|                       1.0|                7|                        1|\n",
      "|    100003|     0|                 1|           0|              0|        270000.0| 1293502.5|    35698.5|      1129500.0|House / apartment|               1|                          1|                     0| 0.6222457752555098|                     0.0|                       0.0|                      0.0|                       0.0|                      0.0|                      0.0|                       0.0|                4|                        3|\n",
      "|    100004|     0|                 0|           1|              1|         67500.0|  135000.0|     6750.0|       135000.0|House / apartment|               1|                          2|                     0| 0.5559120833904428|                     0.0|                       0.0|                      0.0|                       0.0|                      0.0|                      0.0|                       0.0|                7|                        1|\n",
      "|    100006|     0|                 1|           0|              1|        135000.0|  312682.5|    29686.5|       297000.0|House / apartment|               1|                          2|                     0| 0.6504416904014653|                     0.0|                       0.0|                      0.0|                       0.0|                      0.0|                      0.0|                       0.0|                7|                        1|\n",
      "|    100007|     0|                 1|           0|              1|        121500.0|  513000.0|    21865.5|       513000.0|House / apartment|               1|                          2|                     0| 0.3227382869704046|                     0.0|                       0.0|                      0.0|                       0.0|                      0.0|                      0.0|                       0.0|                7|                        1|\n",
      "|    100008|     0|                 1|           0|              1|         99000.0|  490495.5|    27517.5|       454500.0|House / apartment|               1|                          2|                     0| 0.3542247319929012|                     0.0|                       0.0|                      0.0|                       0.0|                      0.0|                      1.0|                       1.0|                4|                        1|\n",
      "|    100009|     0|                 1|           1|              1|        171000.0| 1560726.0|    41301.0|      1395000.0|House / apartment|               1|                          2|                     0| 0.7239998516953141|                     0.0|                       0.0|                      0.0|                       0.0|                      1.0|                      1.0|                       2.0|                1|                        3|\n",
      "|    100010|     0|                 1|           1|              1|        360000.0| 1530000.0|    42075.0|      1530000.0|House / apartment|               1|                          3|                     0| 0.7142792864482229|                     0.0|                       0.0|                      0.0|                       0.0|                      0.0|                      0.0|                       0.0|                4|                        3|\n",
      "|    100011|     0|                 1|           0|              1|        112500.0| 1019610.0|    33826.5|       913500.0|House / apartment|               1|                          2|                     0|0.20574728800732814|                     0.0|                       0.0|                      0.0|                       0.0|                      0.0|                      0.0|                       1.0|                3|                        1|\n",
      "|    100012|     0|                 0|           0|              1|        135000.0|  405000.0|    20250.0|       405000.0|House / apartment|               1|                          2|                     0| 0.7466436294590924|                     0.0|                       0.0|                      0.0|                       0.0|                      0.0|                      0.0|                       0.0|                7|                        1|\n",
      "|    100014|     0|                 1|           0|              1|        112500.0|  652500.0|    21177.0|       652500.0|House / apartment|               1|                          2|                     0| 0.6518623334244781|                     0.0|                       0.0|                      0.0|                       0.0|                      1.0|                      0.0|                       0.0|                7|                        3|\n",
      "|    100015|     0|                 1|           0|              1|       38419.155|  148365.0|    10678.5|       135000.0|House / apartment|               1|                          2|                     0| 0.5551831615131809|                     0.0|                       0.0|                      0.0|                       0.0|                      0.0|                      0.0|                       2.0|                3|                        1|\n",
      "|    100016|     0|                 1|           0|              1|         67500.0|   80865.0|     5881.5|        67500.0|House / apartment|               1|                          2|                     0| 0.7150418188660659|                     0.0|                       0.0|                      0.0|                       0.0|                      1.0|                      0.0|                       0.0|                7|                        1|\n",
      "|    100017|     0|                 1|           1|              0|        225000.0|  918468.0|    28966.5|       697500.0|House / apartment|               1|                          2|                     0| 0.5669066132460429|                     0.0|                       0.0|                      0.0|                       0.0|                      0.0|                      0.0|                       1.0|                7|                        1|\n",
      "|    100018|     0|                 1|           0|              1|        189000.0|  773680.5|    32778.0|       679500.0|House / apartment|               1|                          1|                     0| 0.6426562048311103|                     0.0|                       0.0|                      0.0|                       0.0|                      0.0|                      0.0|                       0.0|                7|                        1|\n",
      "|    100019|     0|                 1|           1|              1|        157500.0|  299772.0|    20160.0|       247500.0| Rented apartment|               1|                          3|                     1|   0.34663398139668|                     0.0|                       0.0|                      0.0|                       0.0|                      0.0|                      0.0|                       1.0|                7|                        1|\n",
      "|    100020|     0|                 1|           0|              0|        108000.0|  509602.5|    26149.5|       387000.0|House / apartment|               1|                          2|                     1| 0.2363778398884225|                     0.0|                       0.0|                      0.0|                       0.0|                      0.0|                      1.0|                       0.0|                7|                        1|\n",
      "|    100021|     0|                 0|           0|              1|         81000.0|  270000.0|    13500.0|       270000.0|House / apartment|               1|                          2|                     1| 0.6835133461914255|                     0.0|                       0.0|                      0.0|                       0.0|                      0.0|                      0.0|                       0.0|                7|                        1|\n",
      "|    100022|     0|                 0|           0|              1|        112500.0|  157500.0|     7875.0|       157500.0|House / apartment|               1|                          1|                     0| 0.7064284028871654|                     0.0|                       0.0|                      0.0|                       0.0|                      0.0|                      0.0|                       0.0|                7|                        1|\n",
      "|    100023|     0|                 1|           0|              1|         90000.0|  544491.0|    17563.5|       454500.0|House / apartment|               1|                          2|                     0| 0.5866171400119664|                     0.0|                       0.0|                      0.0|                       0.0|                      0.0|                      0.0|                       2.0|                4|                        3|\n",
      "+----------+------+------------------+------------+---------------+----------------+----------+-----------+---------------+-----------------+----------------+---------------------------+----------------------+-------------------+------------------------+--------------------------+-------------------------+--------------------------+-------------------------+-------------------------+--------------------------+-----------------+-------------------------+\n",
      "only showing top 20 rows\n",
      "\n"
     ]
    }
   ],
   "source": [
    "df.show()"
   ]
  },
  {
   "cell_type": "code",
   "execution_count": null,
   "metadata": {
    "colab": {
     "base_uri": "https://localhost:8080/"
    },
    "executionInfo": {
     "elapsed": 2009,
     "status": "ok",
     "timestamp": 1716303474805,
     "user": {
      "displayName": "Ngọc Tâm",
      "userId": "16309649879546506017"
     },
     "user_tz": -420
    },
    "id": "90fu8Gfeqm9T",
    "outputId": "22d44e5f-877c-4445-a84f-e2266c8d0da7"
   },
   "outputs": [
    {
     "name": "stdout",
     "output_type": "stream",
     "text": [
      "+-------------------+------+\n",
      "|  NAME_HOUSING_TYPE| count|\n",
      "+-------------------+------+\n",
      "|  House / apartment|271168|\n",
      "|Municipal apartment| 11099|\n",
      "|    Co-op apartment|  1111|\n",
      "|   Rented apartment|  4843|\n",
      "|   Office apartment|  2595|\n",
      "|       With parents| 14741|\n",
      "+-------------------+------+\n",
      "\n"
     ]
    }
   ],
   "source": [
    "df.groupBy('NAME_HOUSING_TYPE').count().show(10)"
   ]
  },
  {
   "cell_type": "code",
   "execution_count": null,
   "metadata": {
    "id": "4IK1HISDqyHd"
   },
   "outputs": [],
   "source": [
    "# Gán \"House / apartment\" thành 1 và các giá trị khác còn lại bằng 0\n",
    "# Bởi vì, \"House / apartment\" là \"Nhà riêng / Căn hộ chung cư\", còn lại là nhà thuê, ở với gia đình, tập thể, ...\n",
    "df = df.withColumn(\"NAME_HOUSING_TYPE_INDEX\",\n",
    "                   when(df[\"NAME_HOUSING_TYPE\"] == \"House / apartment\", 1)\n",
    "                   .when(df[\"NAME_HOUSING_TYPE\"] == \"Municipal apartment\", 0)\n",
    "                   .when(df[\"NAME_HOUSING_TYPE\"] == \"Co-op apartment\", 0)\n",
    "                   .when(df[\"NAME_HOUSING_TYPE\"] == \"Rented apartment\", 0)\n",
    "                   .when(df[\"NAME_HOUSING_TYPE\"] == \"Office apartment\", 0)\n",
    "                   .when(df[\"NAME_HOUSING_TYPE\"] == \"With parents\", 0)\n",
    "                   .otherwise(df[\"NAME_HOUSING_TYPE\"]))\n",
    "df = df.drop(\"NAME_HOUSING_TYPE\")"
   ]
  },
  {
   "cell_type": "code",
   "execution_count": null,
   "metadata": {
    "colab": {
     "base_uri": "https://localhost:8080/"
    },
    "executionInfo": {
     "elapsed": 531,
     "status": "ok",
     "timestamp": 1716303475334,
     "user": {
      "displayName": "Ngọc Tâm",
      "userId": "16309649879546506017"
     },
     "user_tz": -420
    },
    "id": "bWmPJybWsl0k",
    "outputId": "7da8d39a-2ee7-4eae-acee-5a047e426f57"
   },
   "outputs": [
    {
     "name": "stdout",
     "output_type": "stream",
     "text": [
      "+----------+------+------------------+------------+---------------+----------------+----------+-----------+---------------+----------------+---------------------------+----------------------+-------------------+------------------------+--------------------------+-------------------------+--------------------------+-------------------------+-------------------------+--------------------------+-----------------+-------------------------+-----------------------+\n",
      "|SK_ID_CURR|TARGET|NAME_CONTRACT_TYPE|FLAG_OWN_CAR|FLAG_OWN_REALTY|AMT_INCOME_TOTAL|AMT_CREDIT|AMT_ANNUITY|AMT_GOODS_PRICE|FLAG_CONT_MOBILE|REGION_RATING_CLIENT_W_CITY|REG_CITY_NOT_LIVE_CITY|       EXT_SOURCE_2|DEF_30_CNT_SOCIAL_CIRCLE|AMT_REQ_CREDIT_BUREAU_HOUR|AMT_REQ_CREDIT_BUREAU_DAY|AMT_REQ_CREDIT_BUREAU_WEEK|AMT_REQ_CREDIT_BUREAU_MON|AMT_REQ_CREDIT_BUREAU_QRT|AMT_REQ_CREDIT_BUREAU_YEAR|Income_Type_Index|NAME_EDUCATION_TYPE_INDEX|NAME_HOUSING_TYPE_INDEX|\n",
      "+----------+------+------------------+------------+---------------+----------------+----------+-----------+---------------+----------------+---------------------------+----------------------+-------------------+------------------------+--------------------------+-------------------------+--------------------------+-------------------------+-------------------------+--------------------------+-----------------+-------------------------+-----------------------+\n",
      "|    100002|     1|                 1|           0|              1|        202500.0|  406597.5|    24700.5|       351000.0|               1|                          2|                     0| 0.2629485927471776|                     2.0|                       0.0|                      0.0|                       0.0|                      0.0|                      0.0|                       1.0|                7|                        1|                      1|\n",
      "|    100003|     0|                 1|           0|              0|        270000.0| 1293502.5|    35698.5|      1129500.0|               1|                          1|                     0| 0.6222457752555098|                     0.0|                       0.0|                      0.0|                       0.0|                      0.0|                      0.0|                       0.0|                4|                        3|                      1|\n",
      "|    100004|     0|                 0|           1|              1|         67500.0|  135000.0|     6750.0|       135000.0|               1|                          2|                     0| 0.5559120833904428|                     0.0|                       0.0|                      0.0|                       0.0|                      0.0|                      0.0|                       0.0|                7|                        1|                      1|\n",
      "|    100006|     0|                 1|           0|              1|        135000.0|  312682.5|    29686.5|       297000.0|               1|                          2|                     0| 0.6504416904014653|                     0.0|                       0.0|                      0.0|                       0.0|                      0.0|                      0.0|                       0.0|                7|                        1|                      1|\n",
      "|    100007|     0|                 1|           0|              1|        121500.0|  513000.0|    21865.5|       513000.0|               1|                          2|                     0| 0.3227382869704046|                     0.0|                       0.0|                      0.0|                       0.0|                      0.0|                      0.0|                       0.0|                7|                        1|                      1|\n",
      "|    100008|     0|                 1|           0|              1|         99000.0|  490495.5|    27517.5|       454500.0|               1|                          2|                     0| 0.3542247319929012|                     0.0|                       0.0|                      0.0|                       0.0|                      0.0|                      1.0|                       1.0|                4|                        1|                      1|\n",
      "|    100009|     0|                 1|           1|              1|        171000.0| 1560726.0|    41301.0|      1395000.0|               1|                          2|                     0| 0.7239998516953141|                     0.0|                       0.0|                      0.0|                       0.0|                      1.0|                      1.0|                       2.0|                1|                        3|                      1|\n",
      "|    100010|     0|                 1|           1|              1|        360000.0| 1530000.0|    42075.0|      1530000.0|               1|                          3|                     0| 0.7142792864482229|                     0.0|                       0.0|                      0.0|                       0.0|                      0.0|                      0.0|                       0.0|                4|                        3|                      1|\n",
      "|    100011|     0|                 1|           0|              1|        112500.0| 1019610.0|    33826.5|       913500.0|               1|                          2|                     0|0.20574728800732814|                     0.0|                       0.0|                      0.0|                       0.0|                      0.0|                      0.0|                       1.0|                3|                        1|                      1|\n",
      "|    100012|     0|                 0|           0|              1|        135000.0|  405000.0|    20250.0|       405000.0|               1|                          2|                     0| 0.7466436294590924|                     0.0|                       0.0|                      0.0|                       0.0|                      0.0|                      0.0|                       0.0|                7|                        1|                      1|\n",
      "|    100014|     0|                 1|           0|              1|        112500.0|  652500.0|    21177.0|       652500.0|               1|                          2|                     0| 0.6518623334244781|                     0.0|                       0.0|                      0.0|                       0.0|                      1.0|                      0.0|                       0.0|                7|                        3|                      1|\n",
      "|    100015|     0|                 1|           0|              1|       38419.155|  148365.0|    10678.5|       135000.0|               1|                          2|                     0| 0.5551831615131809|                     0.0|                       0.0|                      0.0|                       0.0|                      0.0|                      0.0|                       2.0|                3|                        1|                      1|\n",
      "|    100016|     0|                 1|           0|              1|         67500.0|   80865.0|     5881.5|        67500.0|               1|                          2|                     0| 0.7150418188660659|                     0.0|                       0.0|                      0.0|                       0.0|                      1.0|                      0.0|                       0.0|                7|                        1|                      1|\n",
      "|    100017|     0|                 1|           1|              0|        225000.0|  918468.0|    28966.5|       697500.0|               1|                          2|                     0| 0.5669066132460429|                     0.0|                       0.0|                      0.0|                       0.0|                      0.0|                      0.0|                       1.0|                7|                        1|                      1|\n",
      "|    100018|     0|                 1|           0|              1|        189000.0|  773680.5|    32778.0|       679500.0|               1|                          1|                     0| 0.6426562048311103|                     0.0|                       0.0|                      0.0|                       0.0|                      0.0|                      0.0|                       0.0|                7|                        1|                      1|\n",
      "|    100019|     0|                 1|           1|              1|        157500.0|  299772.0|    20160.0|       247500.0|               1|                          3|                     1|   0.34663398139668|                     0.0|                       0.0|                      0.0|                       0.0|                      0.0|                      0.0|                       1.0|                7|                        1|                      0|\n",
      "|    100020|     0|                 1|           0|              0|        108000.0|  509602.5|    26149.5|       387000.0|               1|                          2|                     1| 0.2363778398884225|                     0.0|                       0.0|                      0.0|                       0.0|                      0.0|                      1.0|                       0.0|                7|                        1|                      1|\n",
      "|    100021|     0|                 0|           0|              1|         81000.0|  270000.0|    13500.0|       270000.0|               1|                          2|                     1| 0.6835133461914255|                     0.0|                       0.0|                      0.0|                       0.0|                      0.0|                      0.0|                       0.0|                7|                        1|                      1|\n",
      "|    100022|     0|                 0|           0|              1|        112500.0|  157500.0|     7875.0|       157500.0|               1|                          1|                     0| 0.7064284028871654|                     0.0|                       0.0|                      0.0|                       0.0|                      0.0|                      0.0|                       0.0|                7|                        1|                      1|\n",
      "|    100023|     0|                 1|           0|              1|         90000.0|  544491.0|    17563.5|       454500.0|               1|                          2|                     0| 0.5866171400119664|                     0.0|                       0.0|                      0.0|                       0.0|                      0.0|                      0.0|                       2.0|                4|                        3|                      1|\n",
      "+----------+------+------------------+------------+---------------+----------------+----------+-----------+---------------+----------------+---------------------------+----------------------+-------------------+------------------------+--------------------------+-------------------------+--------------------------+-------------------------+-------------------------+--------------------------+-----------------+-------------------------+-----------------------+\n",
      "only showing top 20 rows\n",
      "\n"
     ]
    }
   ],
   "source": [
    "df.show()"
   ]
  },
  {
   "cell_type": "code",
   "execution_count": null,
   "metadata": {
    "colab": {
     "base_uri": "https://localhost:8080/"
    },
    "executionInfo": {
     "elapsed": 7,
     "status": "ok",
     "timestamp": 1716303475335,
     "user": {
      "displayName": "Ngọc Tâm",
      "userId": "16309649879546506017"
     },
     "user_tz": -420
    },
    "id": "60Rva9Kesm3U",
    "outputId": "9210ad96-53fe-4b5e-9c53-42dd2cc5b709"
   },
   "outputs": [
    {
     "data": {
      "text/plain": [
       "[('SK_ID_CURR', 'int'),\n",
       " ('TARGET', 'int'),\n",
       " ('NAME_CONTRACT_TYPE', 'int'),\n",
       " ('FLAG_OWN_CAR', 'int'),\n",
       " ('FLAG_OWN_REALTY', 'int'),\n",
       " ('AMT_INCOME_TOTAL', 'double'),\n",
       " ('AMT_CREDIT', 'double'),\n",
       " ('AMT_ANNUITY', 'double'),\n",
       " ('AMT_GOODS_PRICE', 'double'),\n",
       " ('FLAG_CONT_MOBILE', 'int'),\n",
       " ('REGION_RATING_CLIENT_W_CITY', 'int'),\n",
       " ('REG_CITY_NOT_LIVE_CITY', 'int'),\n",
       " ('EXT_SOURCE_2', 'double'),\n",
       " ('DEF_30_CNT_SOCIAL_CIRCLE', 'double'),\n",
       " ('AMT_REQ_CREDIT_BUREAU_HOUR', 'double'),\n",
       " ('AMT_REQ_CREDIT_BUREAU_DAY', 'double'),\n",
       " ('AMT_REQ_CREDIT_BUREAU_WEEK', 'double'),\n",
       " ('AMT_REQ_CREDIT_BUREAU_MON', 'double'),\n",
       " ('AMT_REQ_CREDIT_BUREAU_QRT', 'double'),\n",
       " ('AMT_REQ_CREDIT_BUREAU_YEAR', 'double'),\n",
       " ('Income_Type_Index', 'int'),\n",
       " ('NAME_EDUCATION_TYPE_INDEX', 'int'),\n",
       " ('NAME_HOUSING_TYPE_INDEX', 'string')]"
      ]
     },
     "execution_count": 45,
     "metadata": {},
     "output_type": "execute_result"
    }
   ],
   "source": [
    "df.dtypes"
   ]
  },
  {
   "cell_type": "code",
   "execution_count": null,
   "metadata": {
    "id": "T6DXb74vtls0"
   },
   "outputs": [],
   "source": [
    "# Chuyển \"NAME_HOUSING_TYPE_INDEX\" từ string sang int\n",
    "df = df.withColumn(\"NAME_HOUSING_TYPE_INDEX\", df[\"NAME_HOUSING_TYPE_INDEX\"].cast(IntegerType()))\n"
   ]
  },
  {
   "cell_type": "code",
   "execution_count": null,
   "metadata": {
    "colab": {
     "base_uri": "https://localhost:8080/"
    },
    "executionInfo": {
     "elapsed": 3,
     "status": "ok",
     "timestamp": 1716303475335,
     "user": {
      "displayName": "Ngọc Tâm",
      "userId": "16309649879546506017"
     },
     "user_tz": -420
    },
    "id": "Rbm6wFdjtvVF",
    "outputId": "a6900661-2eb5-4d03-fd85-1de4000a5cd5"
   },
   "outputs": [
    {
     "data": {
      "text/plain": [
       "[('SK_ID_CURR', 'int'),\n",
       " ('TARGET', 'int'),\n",
       " ('NAME_CONTRACT_TYPE', 'int'),\n",
       " ('FLAG_OWN_CAR', 'int'),\n",
       " ('FLAG_OWN_REALTY', 'int'),\n",
       " ('AMT_INCOME_TOTAL', 'double'),\n",
       " ('AMT_CREDIT', 'double'),\n",
       " ('AMT_ANNUITY', 'double'),\n",
       " ('AMT_GOODS_PRICE', 'double'),\n",
       " ('FLAG_CONT_MOBILE', 'int'),\n",
       " ('REGION_RATING_CLIENT_W_CITY', 'int'),\n",
       " ('REG_CITY_NOT_LIVE_CITY', 'int'),\n",
       " ('EXT_SOURCE_2', 'double'),\n",
       " ('DEF_30_CNT_SOCIAL_CIRCLE', 'double'),\n",
       " ('AMT_REQ_CREDIT_BUREAU_HOUR', 'double'),\n",
       " ('AMT_REQ_CREDIT_BUREAU_DAY', 'double'),\n",
       " ('AMT_REQ_CREDIT_BUREAU_WEEK', 'double'),\n",
       " ('AMT_REQ_CREDIT_BUREAU_MON', 'double'),\n",
       " ('AMT_REQ_CREDIT_BUREAU_QRT', 'double'),\n",
       " ('AMT_REQ_CREDIT_BUREAU_YEAR', 'double'),\n",
       " ('Income_Type_Index', 'int'),\n",
       " ('NAME_EDUCATION_TYPE_INDEX', 'int'),\n",
       " ('NAME_HOUSING_TYPE_INDEX', 'int')]"
      ]
     },
     "execution_count": 47,
     "metadata": {},
     "output_type": "execute_result"
    }
   ],
   "source": [
    "df.dtypes"
   ]
  },
  {
   "cell_type": "code",
   "execution_count": null,
   "metadata": {
    "colab": {
     "base_uri": "https://localhost:8080/"
    },
    "executionInfo": {
     "elapsed": 424,
     "status": "ok",
     "timestamp": 1716303475757,
     "user": {
      "displayName": "Ngọc Tâm",
      "userId": "16309649879546506017"
     },
     "user_tz": -420
    },
    "id": "odx0O9qWumMN",
    "outputId": "17f10ac3-bf2e-401a-a79e-c37ce9e460b4"
   },
   "outputs": [
    {
     "name": "stdout",
     "output_type": "stream",
     "text": [
      "+----------+------+------------------+------------+---------------+----------------+----------+-----------+---------------+----------------+---------------------------+----------------------+-------------------+------------------------+--------------------------+-------------------------+--------------------------+-------------------------+-------------------------+--------------------------+-----------------+-------------------------+-----------------------+\n",
      "|SK_ID_CURR|TARGET|NAME_CONTRACT_TYPE|FLAG_OWN_CAR|FLAG_OWN_REALTY|AMT_INCOME_TOTAL|AMT_CREDIT|AMT_ANNUITY|AMT_GOODS_PRICE|FLAG_CONT_MOBILE|REGION_RATING_CLIENT_W_CITY|REG_CITY_NOT_LIVE_CITY|       EXT_SOURCE_2|DEF_30_CNT_SOCIAL_CIRCLE|AMT_REQ_CREDIT_BUREAU_HOUR|AMT_REQ_CREDIT_BUREAU_DAY|AMT_REQ_CREDIT_BUREAU_WEEK|AMT_REQ_CREDIT_BUREAU_MON|AMT_REQ_CREDIT_BUREAU_QRT|AMT_REQ_CREDIT_BUREAU_YEAR|Income_Type_Index|NAME_EDUCATION_TYPE_INDEX|NAME_HOUSING_TYPE_INDEX|\n",
      "+----------+------+------------------+------------+---------------+----------------+----------+-----------+---------------+----------------+---------------------------+----------------------+-------------------+------------------------+--------------------------+-------------------------+--------------------------+-------------------------+-------------------------+--------------------------+-----------------+-------------------------+-----------------------+\n",
      "|    100002|     1|                 1|           0|              1|        202500.0|  406597.5|    24700.5|       351000.0|               1|                          2|                     0| 0.2629485927471776|                     2.0|                       0.0|                      0.0|                       0.0|                      0.0|                      0.0|                       1.0|                7|                        1|                      1|\n",
      "|    100003|     0|                 1|           0|              0|        270000.0| 1293502.5|    35698.5|      1129500.0|               1|                          1|                     0| 0.6222457752555098|                     0.0|                       0.0|                      0.0|                       0.0|                      0.0|                      0.0|                       0.0|                4|                        3|                      1|\n",
      "|    100004|     0|                 0|           1|              1|         67500.0|  135000.0|     6750.0|       135000.0|               1|                          2|                     0| 0.5559120833904428|                     0.0|                       0.0|                      0.0|                       0.0|                      0.0|                      0.0|                       0.0|                7|                        1|                      1|\n",
      "|    100006|     0|                 1|           0|              1|        135000.0|  312682.5|    29686.5|       297000.0|               1|                          2|                     0| 0.6504416904014653|                     0.0|                       0.0|                      0.0|                       0.0|                      0.0|                      0.0|                       0.0|                7|                        1|                      1|\n",
      "|    100007|     0|                 1|           0|              1|        121500.0|  513000.0|    21865.5|       513000.0|               1|                          2|                     0| 0.3227382869704046|                     0.0|                       0.0|                      0.0|                       0.0|                      0.0|                      0.0|                       0.0|                7|                        1|                      1|\n",
      "|    100008|     0|                 1|           0|              1|         99000.0|  490495.5|    27517.5|       454500.0|               1|                          2|                     0| 0.3542247319929012|                     0.0|                       0.0|                      0.0|                       0.0|                      0.0|                      1.0|                       1.0|                4|                        1|                      1|\n",
      "|    100009|     0|                 1|           1|              1|        171000.0| 1560726.0|    41301.0|      1395000.0|               1|                          2|                     0| 0.7239998516953141|                     0.0|                       0.0|                      0.0|                       0.0|                      1.0|                      1.0|                       2.0|                1|                        3|                      1|\n",
      "|    100010|     0|                 1|           1|              1|        360000.0| 1530000.0|    42075.0|      1530000.0|               1|                          3|                     0| 0.7142792864482229|                     0.0|                       0.0|                      0.0|                       0.0|                      0.0|                      0.0|                       0.0|                4|                        3|                      1|\n",
      "|    100011|     0|                 1|           0|              1|        112500.0| 1019610.0|    33826.5|       913500.0|               1|                          2|                     0|0.20574728800732814|                     0.0|                       0.0|                      0.0|                       0.0|                      0.0|                      0.0|                       1.0|                3|                        1|                      1|\n",
      "|    100012|     0|                 0|           0|              1|        135000.0|  405000.0|    20250.0|       405000.0|               1|                          2|                     0| 0.7466436294590924|                     0.0|                       0.0|                      0.0|                       0.0|                      0.0|                      0.0|                       0.0|                7|                        1|                      1|\n",
      "|    100014|     0|                 1|           0|              1|        112500.0|  652500.0|    21177.0|       652500.0|               1|                          2|                     0| 0.6518623334244781|                     0.0|                       0.0|                      0.0|                       0.0|                      1.0|                      0.0|                       0.0|                7|                        3|                      1|\n",
      "|    100015|     0|                 1|           0|              1|       38419.155|  148365.0|    10678.5|       135000.0|               1|                          2|                     0| 0.5551831615131809|                     0.0|                       0.0|                      0.0|                       0.0|                      0.0|                      0.0|                       2.0|                3|                        1|                      1|\n",
      "|    100016|     0|                 1|           0|              1|         67500.0|   80865.0|     5881.5|        67500.0|               1|                          2|                     0| 0.7150418188660659|                     0.0|                       0.0|                      0.0|                       0.0|                      1.0|                      0.0|                       0.0|                7|                        1|                      1|\n",
      "|    100017|     0|                 1|           1|              0|        225000.0|  918468.0|    28966.5|       697500.0|               1|                          2|                     0| 0.5669066132460429|                     0.0|                       0.0|                      0.0|                       0.0|                      0.0|                      0.0|                       1.0|                7|                        1|                      1|\n",
      "|    100018|     0|                 1|           0|              1|        189000.0|  773680.5|    32778.0|       679500.0|               1|                          1|                     0| 0.6426562048311103|                     0.0|                       0.0|                      0.0|                       0.0|                      0.0|                      0.0|                       0.0|                7|                        1|                      1|\n",
      "|    100019|     0|                 1|           1|              1|        157500.0|  299772.0|    20160.0|       247500.0|               1|                          3|                     1|   0.34663398139668|                     0.0|                       0.0|                      0.0|                       0.0|                      0.0|                      0.0|                       1.0|                7|                        1|                      0|\n",
      "|    100020|     0|                 1|           0|              0|        108000.0|  509602.5|    26149.5|       387000.0|               1|                          2|                     1| 0.2363778398884225|                     0.0|                       0.0|                      0.0|                       0.0|                      0.0|                      1.0|                       0.0|                7|                        1|                      1|\n",
      "|    100021|     0|                 0|           0|              1|         81000.0|  270000.0|    13500.0|       270000.0|               1|                          2|                     1| 0.6835133461914255|                     0.0|                       0.0|                      0.0|                       0.0|                      0.0|                      0.0|                       0.0|                7|                        1|                      1|\n",
      "|    100022|     0|                 0|           0|              1|        112500.0|  157500.0|     7875.0|       157500.0|               1|                          1|                     0| 0.7064284028871654|                     0.0|                       0.0|                      0.0|                       0.0|                      0.0|                      0.0|                       0.0|                7|                        1|                      1|\n",
      "|    100023|     0|                 1|           0|              1|         90000.0|  544491.0|    17563.5|       454500.0|               1|                          2|                     0| 0.5866171400119664|                     0.0|                       0.0|                      0.0|                       0.0|                      0.0|                      0.0|                       2.0|                4|                        3|                      1|\n",
      "+----------+------+------------------+------------+---------------+----------------+----------+-----------+---------------+----------------+---------------------------+----------------------+-------------------+------------------------+--------------------------+-------------------------+--------------------------+-------------------------+-------------------------+--------------------------+-----------------+-------------------------+-----------------------+\n",
      "only showing top 20 rows\n",
      "\n"
     ]
    }
   ],
   "source": [
    "df.show()"
   ]
  },
  {
   "cell_type": "code",
   "execution_count": null,
   "metadata": {
    "colab": {
     "base_uri": "https://localhost:8080/"
    },
    "executionInfo": {
     "elapsed": 1571,
     "status": "ok",
     "timestamp": 1716303477327,
     "user": {
      "displayName": "Ngọc Tâm",
      "userId": "16309649879546506017"
     },
     "user_tz": -420
    },
    "id": "LWegG_DQu4tk",
    "outputId": "e1239cdd-afdb-4114-9874-f62408c94c2a"
   },
   "outputs": [
    {
     "name": "stdout",
     "output_type": "stream",
     "text": [
      "Số dòng:  305557\n",
      "Số cột:  23\n"
     ]
    }
   ],
   "source": [
    "print(\"Số dòng: \", df.count())\n",
    "print(\"Số cột: \", len(df.columns))"
   ]
  },
  {
   "cell_type": "code",
   "execution_count": null,
   "metadata": {
    "colab": {
     "base_uri": "https://localhost:8080/"
    },
    "executionInfo": {
     "elapsed": 536,
     "status": "ok",
     "timestamp": 1716303477861,
     "user": {
      "displayName": "Ngọc Tâm",
      "userId": "16309649879546506017"
     },
     "user_tz": -420
    },
    "id": "VCq1JpPJv0Ze",
    "outputId": "46f9038e-ec42-4c84-eb1a-19e845eb152e"
   },
   "outputs": [
    {
     "name": "stdout",
     "output_type": "stream",
     "text": [
      "+----------+------+------------------+------------+---------------+----------------+----------+-----------+---------------+----------------+---------------------------+----------------------+-------------------+------------------------+--------------------------+-------------------------+--------------------------+-------------------------+-------------------------+--------------------------+-----------------+-------------------------+-----------------------+\n",
      "|SK_ID_CURR|TARGET|NAME_CONTRACT_TYPE|FLAG_OWN_CAR|FLAG_OWN_REALTY|AMT_INCOME_TOTAL|AMT_CREDIT|AMT_ANNUITY|AMT_GOODS_PRICE|FLAG_CONT_MOBILE|REGION_RATING_CLIENT_W_CITY|REG_CITY_NOT_LIVE_CITY|       EXT_SOURCE_2|DEF_30_CNT_SOCIAL_CIRCLE|AMT_REQ_CREDIT_BUREAU_HOUR|AMT_REQ_CREDIT_BUREAU_DAY|AMT_REQ_CREDIT_BUREAU_WEEK|AMT_REQ_CREDIT_BUREAU_MON|AMT_REQ_CREDIT_BUREAU_QRT|AMT_REQ_CREDIT_BUREAU_YEAR|Income_Type_Index|NAME_EDUCATION_TYPE_INDEX|NAME_HOUSING_TYPE_INDEX|\n",
      "+----------+------+------------------+------------+---------------+----------------+----------+-----------+---------------+----------------+---------------------------+----------------------+-------------------+------------------------+--------------------------+-------------------------+--------------------------+-------------------------+-------------------------+--------------------------+-----------------+-------------------------+-----------------------+\n",
      "|    100002|     1|                 1|           0|              1|        202500.0|  406597.5|    24700.5|       351000.0|               1|                          2|                     0| 0.2629485927471776|                     2.0|                       0.0|                      0.0|                       0.0|                      0.0|                      0.0|                       1.0|                7|                        1|                      1|\n",
      "|    100003|     0|                 1|           0|              0|        270000.0| 1293502.5|    35698.5|      1129500.0|               1|                          1|                     0| 0.6222457752555098|                     0.0|                       0.0|                      0.0|                       0.0|                      0.0|                      0.0|                       0.0|                4|                        3|                      1|\n",
      "|    100004|     0|                 0|           1|              1|         67500.0|  135000.0|     6750.0|       135000.0|               1|                          2|                     0| 0.5559120833904428|                     0.0|                       0.0|                      0.0|                       0.0|                      0.0|                      0.0|                       0.0|                7|                        1|                      1|\n",
      "|    100006|     0|                 1|           0|              1|        135000.0|  312682.5|    29686.5|       297000.0|               1|                          2|                     0| 0.6504416904014653|                     0.0|                       0.0|                      0.0|                       0.0|                      0.0|                      0.0|                       0.0|                7|                        1|                      1|\n",
      "|    100007|     0|                 1|           0|              1|        121500.0|  513000.0|    21865.5|       513000.0|               1|                          2|                     0| 0.3227382869704046|                     0.0|                       0.0|                      0.0|                       0.0|                      0.0|                      0.0|                       0.0|                7|                        1|                      1|\n",
      "|    100008|     0|                 1|           0|              1|         99000.0|  490495.5|    27517.5|       454500.0|               1|                          2|                     0| 0.3542247319929012|                     0.0|                       0.0|                      0.0|                       0.0|                      0.0|                      1.0|                       1.0|                4|                        1|                      1|\n",
      "|    100009|     0|                 1|           1|              1|        171000.0| 1560726.0|    41301.0|      1395000.0|               1|                          2|                     0| 0.7239998516953141|                     0.0|                       0.0|                      0.0|                       0.0|                      1.0|                      1.0|                       2.0|                1|                        3|                      1|\n",
      "|    100010|     0|                 1|           1|              1|        360000.0| 1530000.0|    42075.0|      1530000.0|               1|                          3|                     0| 0.7142792864482229|                     0.0|                       0.0|                      0.0|                       0.0|                      0.0|                      0.0|                       0.0|                4|                        3|                      1|\n",
      "|    100011|     0|                 1|           0|              1|        112500.0| 1019610.0|    33826.5|       913500.0|               1|                          2|                     0|0.20574728800732814|                     0.0|                       0.0|                      0.0|                       0.0|                      0.0|                      0.0|                       1.0|                3|                        1|                      1|\n",
      "|    100012|     0|                 0|           0|              1|        135000.0|  405000.0|    20250.0|       405000.0|               1|                          2|                     0| 0.7466436294590924|                     0.0|                       0.0|                      0.0|                       0.0|                      0.0|                      0.0|                       0.0|                7|                        1|                      1|\n",
      "|    100014|     0|                 1|           0|              1|        112500.0|  652500.0|    21177.0|       652500.0|               1|                          2|                     0| 0.6518623334244781|                     0.0|                       0.0|                      0.0|                       0.0|                      1.0|                      0.0|                       0.0|                7|                        3|                      1|\n",
      "|    100015|     0|                 1|           0|              1|       38419.155|  148365.0|    10678.5|       135000.0|               1|                          2|                     0| 0.5551831615131809|                     0.0|                       0.0|                      0.0|                       0.0|                      0.0|                      0.0|                       2.0|                3|                        1|                      1|\n",
      "|    100016|     0|                 1|           0|              1|         67500.0|   80865.0|     5881.5|        67500.0|               1|                          2|                     0| 0.7150418188660659|                     0.0|                       0.0|                      0.0|                       0.0|                      1.0|                      0.0|                       0.0|                7|                        1|                      1|\n",
      "|    100017|     0|                 1|           1|              0|        225000.0|  918468.0|    28966.5|       697500.0|               1|                          2|                     0| 0.5669066132460429|                     0.0|                       0.0|                      0.0|                       0.0|                      0.0|                      0.0|                       1.0|                7|                        1|                      1|\n",
      "|    100018|     0|                 1|           0|              1|        189000.0|  773680.5|    32778.0|       679500.0|               1|                          1|                     0| 0.6426562048311103|                     0.0|                       0.0|                      0.0|                       0.0|                      0.0|                      0.0|                       0.0|                7|                        1|                      1|\n",
      "|    100019|     0|                 1|           1|              1|        157500.0|  299772.0|    20160.0|       247500.0|               1|                          3|                     1|   0.34663398139668|                     0.0|                       0.0|                      0.0|                       0.0|                      0.0|                      0.0|                       1.0|                7|                        1|                      0|\n",
      "|    100020|     0|                 1|           0|              0|        108000.0|  509602.5|    26149.5|       387000.0|               1|                          2|                     1| 0.2363778398884225|                     0.0|                       0.0|                      0.0|                       0.0|                      0.0|                      1.0|                       0.0|                7|                        1|                      1|\n",
      "|    100021|     0|                 0|           0|              1|         81000.0|  270000.0|    13500.0|       270000.0|               1|                          2|                     1| 0.6835133461914255|                     0.0|                       0.0|                      0.0|                       0.0|                      0.0|                      0.0|                       0.0|                7|                        1|                      1|\n",
      "|    100022|     0|                 0|           0|              1|        112500.0|  157500.0|     7875.0|       157500.0|               1|                          1|                     0| 0.7064284028871654|                     0.0|                       0.0|                      0.0|                       0.0|                      0.0|                      0.0|                       0.0|                7|                        1|                      1|\n",
      "|    100023|     0|                 1|           0|              1|         90000.0|  544491.0|    17563.5|       454500.0|               1|                          2|                     0| 0.5866171400119664|                     0.0|                       0.0|                      0.0|                       0.0|                      0.0|                      0.0|                       2.0|                4|                        3|                      1|\n",
      "+----------+------+------------------+------------+---------------+----------------+----------+-----------+---------------+----------------+---------------------------+----------------------+-------------------+------------------------+--------------------------+-------------------------+--------------------------+-------------------------+-------------------------+--------------------------+-----------------+-------------------------+-----------------------+\n",
      "only showing top 20 rows\n",
      "\n"
     ]
    }
   ],
   "source": [
    "df.show()"
   ]
  },
  {
   "cell_type": "markdown",
   "metadata": {
    "id": "hD54tXe_yGTY"
   },
   "source": [
    "# **Build Logistic Regression**"
   ]
  },
  {
   "cell_type": "code",
   "execution_count": null,
   "metadata": {
    "id": "iem30ZgrBAyl"
   },
   "outputs": [],
   "source": [
    "from pyspark.ml.regression import LinearRegression\n",
    "from pyspark.ml.feature import VectorAssembler\n",
    "from pyspark.ml.evaluation import RegressionEvaluator"
   ]
  },
  {
   "cell_type": "code",
   "execution_count": null,
   "metadata": {
    "id": "g-PY8wqBxPzV"
   },
   "outputs": [],
   "source": [
    "selected_features = [\"NAME_CONTRACT_TYPE\", \"FLAG_OWN_CAR\", \"FLAG_OWN_REALTY\", \"AMT_INCOME_TOTAL\",\n",
    "                    \"AMT_CREDIT\", \"AMT_ANNUITY\", \"AMT_GOODS_PRICE\", \"FLAG_CONT_MOBILE\", \"REGION_RATING_CLIENT_W_CITY\",\n",
    "                    \"REG_CITY_NOT_LIVE_CITY\", \"EXT_SOURCE_2\", \"DEF_30_CNT_SOCIAL_CIRCLE\", \"AMT_REQ_CREDIT_BUREAU_HOUR\",\n",
    "                    \"AMT_REQ_CREDIT_BUREAU_DAY\", \"AMT_REQ_CREDIT_BUREAU_WEEK\", \"AMT_REQ_CREDIT_BUREAU_MON\", \"AMT_REQ_CREDIT_BUREAU_QRT\",\n",
    "                    \"AMT_REQ_CREDIT_BUREAU_YEAR\", \"Income_Type_Index\", \"NAME_EDUCATION_TYPE_INDEX\", \"NAME_HOUSING_TYPE_INDEX\"]\n",
    "label = \"TARGET\""
   ]
  },
  {
   "cell_type": "code",
   "execution_count": null,
   "metadata": {
    "id": "396zgjNxHseL"
   },
   "outputs": [],
   "source": [
    "#from pyspark.ml.feature import VectorAssembler\n",
    "#from pyspark.ml.regression import LinearRegression\n",
    "#from pyspark.ml import Pipeline\n",
    "#from pyspark.ml.evaluation import RegressionEvaluator\n",
    "#from pyspark.ml.evaluation import BinaryClassificationEvaluator\n",
    "#import builtins\n",
    "from pyspark.sql import SparkSession\n",
    "from pyspark.ml.feature import StringIndexer, VectorAssembler\n",
    "from pyspark.ml.classification import LogisticRegression\n",
    "from pyspark.ml import Pipeline\n",
    "from pyspark.ml.evaluation import BinaryClassificationEvaluator, MulticlassClassificationEvaluator\n",
    "from imblearn.over_sampling import SMOTE\n",
    "import pandas as pd\n",
    "from sklearn.metrics import confusion_matrix, classification_report"
   ]
  },
  {
   "cell_type": "code",
   "execution_count": null,
   "metadata": {
    "id": "AXhIHdjgn6lB"
   },
   "outputs": [],
   "source": [
    "# Chia dữ liệu thành tập huấn luyện và tập kiểm tra (80% huấn luyện, 20% kiểm tra)\n",
    "train_data, test_data = df.randomSplit([0.8, 0.2], seed=42)"
   ]
  },
  {
   "cell_type": "code",
   "execution_count": null,
   "metadata": {
    "id": "nzNF5WnKn8Ns"
   },
   "outputs": [],
   "source": [
    "# Chuyển đổi dữ liệu Spark DataFrame thành Pandas DataFrame\n",
    "train_data_pandas = train_data.toPandas()\n",
    "\n",
    "# Tách đặc trưng và nhãn\n",
    "X = train_data_pandas[selected_features]\n",
    "y = train_data_pandas[\"TARGET\"]\n",
    "\n",
    "# Áp dụng SMOTE\n",
    "smote = SMOTE(random_state=42)\n",
    "X_resampled, y_resampled = smote.fit_resample(X, y)\n",
    "\n",
    "max_samples = 150000\n",
    "if len(X_resampled) > max_samples:\n",
    "    indices = np.random.choice(len(X_resampled), max_samples, replace=False)\n",
    "    X_resampled = X_resampled.iloc[indices]  # Sử dụng .iloc để truy cập các hàng dựa trên chỉ mục vị trí\n",
    "    y_resampled = y_resampled.iloc[indices]\n",
    "# Chuyển đổi lại thành Spark DataFrame\n",
    "resampled_data = pd.concat([X_resampled, y_resampled], axis=1)\n",
    "train_data_balanced = spark.createDataFrame(resampled_data)"
   ]
  },
  {
   "cell_type": "code",
   "execution_count": null,
   "metadata": {
    "id": "GYDgawcioBSO"
   },
   "outputs": [],
   "source": [
    "# Khởi tạo các StringIndexer cho các cột phân loại\n",
    "indexers = [StringIndexer(inputCol=column, outputCol=column + \"_INDEX\") for column in [\"NAME_CONTRACT_TYPE\", \"FLAG_OWN_CAR\", \"FLAG_OWN_REALTY\"]]\n",
    "\n",
    "# Danh sách các cột đặc trưng đã được mã hóa\n",
    "indexed_features = [column + \"_INDEX\" for column in [\"NAME_CONTRACT_TYPE\", \"FLAG_OWN_CAR\", \"FLAG_OWN_REALTY\"]]\n",
    "selected_feature_index = [col for col in selected_features if col not in [\"NAME_CONTRACT_TYPE\", \"FLAG_OWN_CAR\", \"FLAG_OWN_REALTY\"]] + indexed_features"
   ]
  },
  {
   "cell_type": "code",
   "execution_count": null,
   "metadata": {
    "id": "0fhRDRJToCpM"
   },
   "outputs": [],
   "source": [
    "# Khởi tạo VectorAssembler\n",
    "assembler = VectorAssembler(inputCols=selected_feature_index, outputCol=\"features\")"
   ]
  },
  {
   "cell_type": "code",
   "execution_count": null,
   "metadata": {
    "id": "83kpd3LLoHuK"
   },
   "outputs": [],
   "source": [
    "# Khởi tạo LogisticRegression\n",
    "lr = LogisticRegression(labelCol=\"TARGET\", featuresCol=\"features\")\n",
    "\n",
    "# Tạo danh sách các stages trong pipeline\n",
    "stages = indexers + [assembler, lr]"
   ]
  },
  {
   "cell_type": "code",
   "execution_count": null,
   "metadata": {
    "id": "p6PfbCOIoIco"
   },
   "outputs": [],
   "source": [
    "# Khởi tạo Pipeline\n",
    "pipeline = Pipeline(stages=stages)\n"
   ]
  },
  {
   "cell_type": "code",
   "execution_count": null,
   "metadata": {
    "id": "xAFKjrVgoJSB"
   },
   "outputs": [],
   "source": [
    "# Huấn luyện mô hình trên tập train_data_balanced\n",
    "model = pipeline.fit(train_data_balanced)\n"
   ]
  },
  {
   "cell_type": "code",
   "execution_count": null,
   "metadata": {
    "id": "TVCsB3t8oJ9x"
   },
   "outputs": [],
   "source": [
    "# Dự đoán trên tập test_data\n",
    "predictions = model.transform(test_data)"
   ]
  },
  {
   "cell_type": "code",
   "execution_count": null,
   "metadata": {
    "colab": {
     "base_uri": "https://localhost:8080/"
    },
    "executionInfo": {
     "elapsed": 9404,
     "status": "ok",
     "timestamp": 1716303560919,
     "user": {
      "displayName": "Ngọc Tâm",
      "userId": "16309649879546506017"
     },
     "user_tz": -420
    },
    "id": "Mq7wK09moKrs",
    "outputId": "e2967c0c-d35c-442c-a7b6-468285807160"
   },
   "outputs": [
    {
     "name": "stdout",
     "output_type": "stream",
     "text": [
      "AUC: 0.6168146578434393\n"
     ]
    }
   ],
   "source": [
    "# Tính toán AUC\n",
    "evaluator = BinaryClassificationEvaluator(labelCol=\"TARGET\", rawPredictionCol=\"rawPrediction\")\n",
    "auc = evaluator.evaluate(predictions, {evaluator.metricName: \"areaUnderROC\"})\n",
    "print(f\"AUC: {auc}\")"
   ]
  },
  {
   "cell_type": "code",
   "execution_count": null,
   "metadata": {
    "colab": {
     "base_uri": "https://localhost:8080/"
    },
    "executionInfo": {
     "elapsed": 13796,
     "status": "ok",
     "timestamp": 1716303574712,
     "user": {
      "displayName": "Ngọc Tâm",
      "userId": "16309649879546506017"
     },
     "user_tz": -420
    },
    "id": "QQ9rXzouoLjw",
    "outputId": "0e8ff511-d92e-4d20-aa58-78d5d032ec11"
   },
   "outputs": [
    {
     "name": "stdout",
     "output_type": "stream",
     "text": [
      "F1 Score: 0.7557928569790492\n",
      "Precision: 0.8701440612619059\n",
      "Recall: 0.6867148652185292\n"
     ]
    }
   ],
   "source": [
    "# Tính toán các chỉ số\n",
    "evaluator_f1 = MulticlassClassificationEvaluator(labelCol=\"TARGET\", predictionCol=\"prediction\", metricName=\"f1\")\n",
    "evaluator_precision = MulticlassClassificationEvaluator(labelCol=\"TARGET\", predictionCol=\"prediction\", metricName=\"weightedPrecision\")\n",
    "evaluator_recall = MulticlassClassificationEvaluator(labelCol=\"TARGET\", predictionCol=\"prediction\", metricName=\"weightedRecall\")\n",
    "\n",
    "f1 = evaluator_f1.evaluate(predictions)\n",
    "precision = evaluator_precision.evaluate(predictions)\n",
    "recall = evaluator_recall.evaluate(predictions)\n",
    "\n",
    "print(f\"F1 Score: {f1}\")\n",
    "print(f\"Precision: {precision}\")\n",
    "print(f\"Recall: {recall}\")"
   ]
  },
  {
   "cell_type": "code",
   "execution_count": null,
   "metadata": {
    "id": "TsEam76ooMYY"
   },
   "outputs": [],
   "source": [
    "# Chuyển đổi dự đoán và nhãn thực sự thành Pandas DataFrame\n",
    "predictions_pandas = predictions.select(\"prediction\", \"TARGET\").toPandas()"
   ]
  },
  {
   "cell_type": "code",
   "execution_count": null,
   "metadata": {
    "colab": {
     "base_uri": "https://localhost:8080/"
    },
    "executionInfo": {
     "elapsed": 18,
     "status": "ok",
     "timestamp": 1716303581530,
     "user": {
      "displayName": "Ngọc Tâm",
      "userId": "16309649879546506017"
     },
     "user_tz": -420
    },
    "id": "fSSXsVZwoNQD",
    "outputId": "ab119ebb-3182-454b-d94f-f934dd72c1e9"
   },
   "outputs": [
    {
     "name": "stdout",
     "output_type": "stream",
     "text": [
      "Confusion Matrix:\n",
      "[[39710 16456]\n",
      " [ 2697  2273]]\n"
     ]
    }
   ],
   "source": [
    "# Tính toán ma trận nhầm lẫn\n",
    "conf_matrix = confusion_matrix(predictions_pandas[\"TARGET\"], predictions_pandas[\"prediction\"])\n",
    "# In ra ma trận nhầm lẫn\n",
    "print(\"Confusion Matrix:\")\n",
    "print(conf_matrix)"
   ]
  },
  {
   "cell_type": "code",
   "execution_count": null,
   "metadata": {
    "colab": {
     "base_uri": "https://localhost:8080/"
    },
    "executionInfo": {
     "elapsed": 3463,
     "status": "ok",
     "timestamp": 1716303584977,
     "user": {
      "displayName": "Ngọc Tâm",
      "userId": "16309649879546506017"
     },
     "user_tz": -420
    },
    "id": "3gVq_il3oOeu",
    "outputId": "bed63d88-bc40-4081-c528-6796df02a5c5"
   },
   "outputs": [
    {
     "name": "stdout",
     "output_type": "stream",
     "text": [
      "+------+------+\n",
      "|TARGET| count|\n",
      "+------+------+\n",
      "|     1| 19746|\n",
      "|     0|224675|\n",
      "+------+------+\n",
      "\n"
     ]
    }
   ],
   "source": [
    "train_data.groupBy(\"TARGET\").count().show()"
   ]
  },
  {
   "cell_type": "code",
   "execution_count": null,
   "metadata": {
    "colab": {
     "base_uri": "https://localhost:8080/"
    },
    "executionInfo": {
     "elapsed": 1566,
     "status": "ok",
     "timestamp": 1716303586541,
     "user": {
      "displayName": "Ngọc Tâm",
      "userId": "16309649879546506017"
     },
     "user_tz": -420
    },
    "id": "reaZPcFDoTor",
    "outputId": "f7630897-06ca-4f82-c340-fa0e92ed8ee5"
   },
   "outputs": [
    {
     "name": "stdout",
     "output_type": "stream",
     "text": [
      "+------+-----+\n",
      "|TARGET|count|\n",
      "+------+-----+\n",
      "|     0|74906|\n",
      "|     1|75094|\n",
      "+------+-----+\n",
      "\n"
     ]
    }
   ],
   "source": [
    "train_data_balanced.groupBy(\"TARGET\").count().show()"
   ]
  },
  {
   "cell_type": "code",
   "execution_count": null,
   "metadata": {
    "colab": {
     "base_uri": "https://localhost:8080/",
     "height": 486
    },
    "executionInfo": {
     "elapsed": 980,
     "status": "ok",
     "timestamp": 1716303587519,
     "user": {
      "displayName": "Ngọc Tâm",
      "userId": "16309649879546506017"
     },
     "user_tz": -420
    },
    "id": "C7phS0uNoUeR",
    "outputId": "e6a2332a-2a61-4cdc-be7b-0b50774b2daf"
   },
   "outputs": [
    {
     "data": {
      "image/png": "[encoded data removed]",
      "text/plain": [
       "<Figure size 640x480 with 2 Axes>"
      ]
     },
     "metadata": {},
     "output_type": "display_data"
    }
   ],
   "source": [
    "import matplotlib.pyplot as plt\n",
    "\n",
    "# Dữ liệu trước khi cân bằng\n",
    "labels_before = ['0', '1']\n",
    "counts_before = [224675, 19746]\n",
    "\n",
    "# Dữ liệu sau khi cân bằng\n",
    "labels_after = ['0', '1']\n",
    "counts_after = [74978, 75022]\n",
    "\n",
    "# Vẽ biểu đồ\n",
    "fig, axs = plt.subplots(2)\n",
    "\n",
    "# Biểu đồ trước khi cân bằng\n",
    "axs[0].bar(labels_before, counts_before, color=['blue', 'orange'])\n",
    "axs[0].set_title('Sự phân bố của dữ liệu trước khi cân bằng')\n",
    "axs[0].set_ylabel('Số lượng mẫu')\n",
    "\n",
    "# Biểu đồ sau khi cân bằng\n",
    "axs[1].bar(labels_after, counts_after, color=['blue', 'orange'])\n",
    "axs[1].set_title('Sự phân bố của dữ liệu sau khi cân bằng')\n",
    "axs[1].set_ylabel('Số lượng mẫu')\n",
    "\n",
    "# Hiển thị biểu đồ\n",
    "plt.tight_layout()\n",
    "plt.show()"
   ]
  },
  {
   "cell_type": "code",
   "execution_count": null,
   "metadata": {
    "colab": {
     "base_uri": "https://localhost:8080/",
     "height": 457
    },
    "executionInfo": {
     "elapsed": 601,
     "status": "ok",
     "timestamp": 1716303588114,
     "user": {
      "displayName": "Ngọc Tâm",
      "userId": "16309649879546506017"
     },
     "user_tz": -420
    },
    "id": "ZPAGGbRZrDAa",
    "outputId": "c1550669-fc8e-449e-843d-8f5b3eccea40"
   },
   "outputs": [
    {
     "data": {
      "image/png": "[encoded data removed]",
      "text/plain": [
       "<Figure size 640x480 with 2 Axes>"
      ]
     },
     "metadata": {},
     "output_type": "display_data"
    }
   ],
   "source": [
    "import matplotlib.pyplot as plt\n",
    "import numpy as np\n",
    "from matplotlib.colors import LinearSegmentedColormap\n",
    "\n",
    "# Ma trận nhầm lẫn\n",
    "confusion_matrix = np.array([[39766, 16400], [2704, 2266]])\n",
    "\n",
    "# Tạo figure và axes\n",
    "fig, ax = plt.subplots()\n",
    "\n",
    "# Vẽ ma trận nhầm lẫn\n",
    "cmap = LinearSegmentedColormap.from_list('custom_blue', ['#e0f7fa', '#01579b'])\n",
    "\n",
    "cax = ax.matshow(confusion_matrix, cmap=cmap)\n",
    "\n",
    "# Thêm tiêu đề và chú thích\n",
    "plt.title('Confusion Matrix')\n",
    "plt.xlabel('')\n",
    "plt.ylabel('')\n",
    "plt.colorbar(cax)\n",
    "\n",
    "# Hiển thị giá trị trong từng ô\n",
    "for i in range(confusion_matrix.shape[0]):\n",
    "    for j in range(confusion_matrix.shape[1]):\n",
    "        plt.text(j, i, str(confusion_matrix[i, j]), va='center', ha='center')\n",
    "\n",
    "# Hiển thị\n",
    "plt.show()"
   ]
  },
  {
   "cell_type": "code",
   "execution_count": null,
   "metadata": {
    "id": "uDoD2MD3zNsh"
   },
   "outputs": [],
   "source": []
  }
 ],
 "metadata": {
  "colab": {
   "provenance": [],
   "toc_visible": true
  },
  "kernelspec": {
   "display_name": "base",
   "language": "python",
   "name": "python3"
  },
  "language_info": {
   "codemirror_mode": {
    "name": "ipython",
    "version": 3
   },
   "file_extension": ".py",
   "mimetype": "text/x-python",
   "name": "python",
   "nbconvert_exporter": "python",
   "pygments_lexer": "ipython3",
   "version": "3.12.7"
  }
 },
 "nbformat": 4,
 "nbformat_minor": 0
}
